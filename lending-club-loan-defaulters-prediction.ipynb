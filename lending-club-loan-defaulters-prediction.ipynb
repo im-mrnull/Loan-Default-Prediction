{
 "cells": [
  {
   "cell_type": "markdown",
   "id": "4e1e2fcc",
   "metadata": {
    "papermill": {
     "duration": 0.029083,
     "end_time": "2023-01-31T14:11:23.008968",
     "exception": false,
     "start_time": "2023-01-31T14:11:22.979885",
     "status": "completed"
    },
    "tags": []
   },
   "source": [
    "# 🏦 Loan Analysis Problem Statement\n",
    "\n",
    "# 📑 Introduction\n",
    "\n",
    "> `LendingClub` is a US peer-to-peer lending company, headquartered in San Francisco, California. It was the first peer-to-peer lender to register its offerings as securities with the Securities and Exchange Commission (SEC), and to offer loan trading on a secondary market. `LendingClub` is the world's largest peer-to-peer lending platform.\n",
    "\n",
    "> Solving this case study will give us an idea about how real business problems are solved using EDA and Machine Learning. In this case study, we will also develop a basic understanding of risk analytics in banking and financial services and understand how data is used to minimise the risk of losing money while lending to customers.\n",
    "\n",
    "# 📝 Business Understanding\n",
    "\n",
    "> You work for the `LendingClub` company which specialises in lending various types of loans to urban customers. When the company receives a loan application, the company has to make a decision for loan approval based on the applicant’s profile. Two types of risks are associated with the bank’s decision:\n",
    "\n",
    "> - If the applicant is likely to repay the loan, then not approving the loan results in a loss of business to the company\n",
    "> - If the applicant is not likely to repay the loan, i.e. he/she is likely to default, then approving the loan may lead to a financial loss for the company\n",
    "\n",
    "> The data given contains the information about past loan applicants and whether they ‘defaulted’ or not. The aim is to identify patterns which indicate if a person is likely to default, which may be used for takin actions such as denying the loan, reducing the amount of loan, lending (to risky applicants) at a higher interest rate, etc.\n",
    "\n",
    "> When a person applies for a loan, there are two types of decisions that could be taken by the company:\n",
    "> 1. `Loan accepted`: If the company approves the loan, there are 3 possible scenarios described below:\n",
    "    - `Fully paid`: Applicant has fully paid the loan (the principal and the interest rate)\n",
    "    - `Current`: Applicant is in the process of paying the instalments, i.e. the tenure of the loan is not yet completed. These candidates are not labelled as 'defaulted'.\n",
    "    - `Charged-off`: Applicant has not paid the instalments in due time for a long period of time, i.e. he/she has defaulted on the loan\n",
    "> 2. `Loan rejected`: The company had rejected the loan (because the candidate does not meet their requirements etc.). Since the loan was rejected, there is no transactional history of those applicants with the company and so this data is not available with the company (and thus in this dataset)\n",
    "\n",
    "# 🎯 Business Objectives\n",
    "> - `LendingClub` is the largest online loan marketplace, facilitating personal loans, business loans, and financing of medical procedures. Borrowers can easily access lower interest rate loans through a fast online interface. \n",
    "> - Like most other lending companies, lending loans to ‘`risky`’ applicants is the largest source of financial loss (called `credit loss`). The credit loss is the amount of money lost by the lender when the borrower refuses to pay or runs away with the money owed. In other words, borrowers who defaultcause the largest amount of loss to the lenders. In this case, the customers labelled as '`charged-off`' are the '`defaulters`'. \n",
    "> - If one is able to identify these risky loan applicants, then such loans can be reduced thereby cutting down the amount of credit loss. Identification of such applicants using EDA and machine learning is the aim of this case study. \n",
    "> - In other words, the company wants to understand the driving factors (or driver variables) behind loan default, i.e. the variables which are strong indicators of default. The company can utilise this knowledge for its portfolio and risk assessment. \n",
    "> - To develop your understanding of the domain, you are advised to independently research a little about risk analytics (understanding the types of variables and their significance should be enough).\n",
    "\n",
    "# 💾 Data Description\n",
    "\n",
    "----\n",
    "-----\n",
    "Here is the information on this particular data set:\n",
    "\n",
    "<table border=\"1\" class=\"dataframe\">\n",
    "  <thead>\n",
    "    <tr style=\"text-align: right;\">\n",
    "      <th></th>\n",
    "      <th>LoanStatNew</th>\n",
    "      <th>Description</th>\n",
    "    </tr>\n",
    "  </thead>\n",
    "  <tbody>\n",
    "    <tr>\n",
    "      <th>0</th>\n",
    "      <td>loan_amnt</td>\n",
    "      <td>The listed amount of the loan applied for by the borrower. If at some point in time, the credit department reduces the loan amount, then it will be reflected in this value.</td>\n",
    "    </tr>\n",
    "    <tr>\n",
    "      <th>1</th>\n",
    "      <td>term</td>\n",
    "      <td>The number of payments on the loan. Values are in months and can be either 36 or 60.</td>\n",
    "    </tr>\n",
    "    <tr>\n",
    "      <th>2</th>\n",
    "      <td>int_rate</td>\n",
    "      <td>Interest Rate on the loan</td>\n",
    "    </tr>\n",
    "    <tr>\n",
    "      <th>3</th>\n",
    "      <td>installment</td>\n",
    "      <td>The monthly payment owed by the borrower if the loan originates.</td>\n",
    "    </tr>\n",
    "    <tr>\n",
    "      <th>4</th>\n",
    "      <td>grade</td>\n",
    "      <td>LC assigned loan grade</td>\n",
    "    </tr>\n",
    "    <tr>\n",
    "      <th>5</th>\n",
    "      <td>sub_grade</td>\n",
    "      <td>LC assigned loan subgrade</td>\n",
    "    </tr>\n",
    "    <tr>\n",
    "      <th>6</th>\n",
    "      <td>emp_title</td>\n",
    "      <td>The job title supplied by the Borrower when applying for the loan.*</td>\n",
    "    </tr>\n",
    "    <tr>\n",
    "      <th>7</th>\n",
    "      <td>emp_length</td>\n",
    "      <td>Employment length in years. Possible values are between 0 and 10 where 0 means less than one year and 10 means ten or more years.</td>\n",
    "    </tr>\n",
    "    <tr>\n",
    "      <th>8</th>\n",
    "      <td>home_ownership</td>\n",
    "      <td>The home ownership status provided by the borrower during registration or obtained from the credit report. Our values are: RENT, OWN, MORTGAGE, OTHER</td>\n",
    "    </tr>\n",
    "    <tr>\n",
    "      <th>9</th>\n",
    "      <td>annual_inc</td>\n",
    "      <td>The self-reported annual income provided by the borrower during registration.</td>\n",
    "    </tr>\n",
    "    <tr>\n",
    "      <th>10</th>\n",
    "      <td>verification_status</td>\n",
    "      <td>Indicates if income was verified by LC, not verified, or if the income source was verified</td>\n",
    "    </tr>\n",
    "    <tr>\n",
    "      <th>11</th>\n",
    "      <td>issue_d</td>\n",
    "      <td>The month which the loan was funded</td>\n",
    "    </tr>\n",
    "    <tr>\n",
    "      <th>12</th>\n",
    "      <td>loan_status</td>\n",
    "      <td>Current status of the loan</td>\n",
    "    </tr>\n",
    "    <tr>\n",
    "      <th>13</th>\n",
    "      <td>purpose</td>\n",
    "      <td>A category provided by the borrower for the loan request.</td>\n",
    "    </tr>\n",
    "    <tr>\n",
    "      <th>14</th>\n",
    "      <td>title</td>\n",
    "      <td>The loan title provided by the borrower</td>\n",
    "    </tr>\n",
    "    <tr>\n",
    "      <th>15</th>\n",
    "      <td>zip_code</td>\n",
    "      <td>The first 3 numbers of the zip code provided by the borrower in the loan application.</td>\n",
    "    </tr>\n",
    "    <tr>\n",
    "      <th>16</th>\n",
    "      <td>addr_state</td>\n",
    "      <td>The state provided by the borrower in the loan application</td>\n",
    "    </tr>\n",
    "    <tr>\n",
    "      <th>17</th>\n",
    "      <td>dti</td>\n",
    "      <td>A ratio calculated using the borrower’s total monthly debt payments on the total debt obligations, excluding mortgage and the requested LC loan, divided by the borrower’s self-reported monthly income.</td>\n",
    "    </tr>\n",
    "    <tr>\n",
    "      <th>18</th>\n",
    "      <td>earliest_cr_line</td>\n",
    "      <td>The month the borrower's earliest reported credit line was opened</td>\n",
    "    </tr>\n",
    "    <tr>\n",
    "      <th>19</th>\n",
    "      <td>open_acc</td>\n",
    "      <td>The number of open credit lines in the borrower's credit file.</td>\n",
    "    </tr>\n",
    "    <tr>\n",
    "      <th>20</th>\n",
    "      <td>pub_rec</td>\n",
    "      <td>Number of derogatory public records</td>\n",
    "    </tr>\n",
    "    <tr>\n",
    "      <th>21</th>\n",
    "      <td>revol_bal</td>\n",
    "      <td>Total credit revolving balance</td>\n",
    "    </tr>\n",
    "    <tr>\n",
    "      <th>22</th>\n",
    "      <td>revol_util</td>\n",
    "      <td>Revolving line utilization rate, or the amount of credit the borrower is using relative to all available revolving credit.</td>\n",
    "    </tr>\n",
    "    <tr>\n",
    "      <th>23</th>\n",
    "      <td>total_acc</td>\n",
    "      <td>The total number of credit lines currently in the borrower's credit file</td>\n",
    "    </tr>\n",
    "    <tr>\n",
    "      <th>24</th>\n",
    "      <td>initial_list_status</td>\n",
    "      <td>The initial listing status of the loan. Possible values are – W, F</td>\n",
    "    </tr>\n",
    "    <tr>\n",
    "      <th>25</th>\n",
    "      <td>application_type</td>\n",
    "      <td>Indicates whether the loan is an individual application or a joint application with two co-borrowers</td>\n",
    "    </tr>\n",
    "    <tr>\n",
    "      <th>26</th>\n",
    "      <td>mort_acc</td>\n",
    "      <td>Number of mortgage accounts.</td>\n",
    "    </tr>\n",
    "    <tr>\n",
    "      <th>27</th>\n",
    "      <td>pub_rec_bankruptcies</td>\n",
    "      <td>Number of public record bankruptcies</td>\n",
    "    </tr>\n",
    "  </tbody>\n",
    "</table>\n",
    "\n",
    "---\n",
    "----"
   ]
  },
  {
   "cell_type": "code",
   "execution_count": 42,
   "id": "25ee1df2",
   "metadata": {
    "_kg_hide-input": true,
    "_kg_hide-output": true,
    "execution": {
     "iopub.execute_input": "2023-01-31T14:11:23.066230Z",
     "iopub.status.busy": "2023-01-31T14:11:23.065356Z",
     "iopub.status.idle": "2023-01-31T14:11:35.106519Z",
     "shell.execute_reply": "2023-01-31T14:11:35.105319Z"
    },
    "papermill": {
     "duration": 12.072611,
     "end_time": "2023-01-31T14:11:35.109296",
     "exception": false,
     "start_time": "2023-01-31T14:11:23.036685",
     "status": "completed"
    },
    "tags": []
   },
   "outputs": [
    {
     "name": "stdout",
     "output_type": "stream",
     "text": [
      "Requirement already satisfied: scikit-learn in c:\\users\\rajee\\onedrive\\desktop\\shourya\\mlproj\\.venv\\lib\\site-packages (1.7.2)\n",
      "Requirement already satisfied: numpy>=1.22.0 in c:\\users\\rajee\\onedrive\\desktop\\shourya\\mlproj\\.venv\\lib\\site-packages (from scikit-learn) (2.3.3)\n",
      "Requirement already satisfied: scipy>=1.8.0 in c:\\users\\rajee\\onedrive\\desktop\\shourya\\mlproj\\.venv\\lib\\site-packages (from scikit-learn) (1.16.2)\n",
      "Requirement already satisfied: joblib>=1.2.0 in c:\\users\\rajee\\onedrive\\desktop\\shourya\\mlproj\\.venv\\lib\\site-packages (from scikit-learn) (1.5.2)\n",
      "Requirement already satisfied: threadpoolctl>=3.1.0 in c:\\users\\rajee\\onedrive\\desktop\\shourya\\mlproj\\.venv\\lib\\site-packages (from scikit-learn) (3.6.0)\n",
      "Requirement already satisfied: xgboost in c:\\users\\rajee\\onedrive\\desktop\\shourya\\mlproj\\.venv\\lib\\site-packages (3.0.5)\n",
      "Requirement already satisfied: numpy in c:\\users\\rajee\\onedrive\\desktop\\shourya\\mlproj\\.venv\\lib\\site-packages (from xgboost) (2.3.3)\n",
      "Requirement already satisfied: scipy in c:\\users\\rajee\\onedrive\\desktop\\shourya\\mlproj\\.venv\\lib\\site-packages (from xgboost) (1.16.2)\n",
      "Requirement already satisfied: xgboost in c:\\users\\rajee\\onedrive\\desktop\\shourya\\mlproj\\.venv\\lib\\site-packages (3.0.5)\n",
      "Requirement already satisfied: numpy in c:\\users\\rajee\\onedrive\\desktop\\shourya\\mlproj\\.venv\\lib\\site-packages (from xgboost) (2.3.3)\n",
      "Requirement already satisfied: scipy in c:\\users\\rajee\\onedrive\\desktop\\shourya\\mlproj\\.venv\\lib\\site-packages (from xgboost) (1.16.2)\n"
     ]
    }
   ],
   "source": [
    "!pip install -q hvplot\n",
    "!pip install scikit-learn\n",
    "!pip install xgboost"
   ]
  },
  {
   "cell_type": "code",
   "execution_count": 43,
   "id": "9cb24c87",
   "metadata": {
    "_kg_hide-input": true,
    "execution": {
     "iopub.execute_input": "2023-01-31T14:11:35.164738Z",
     "iopub.status.busy": "2023-01-31T14:11:35.163899Z",
     "iopub.status.idle": "2023-01-31T14:11:44.332161Z",
     "shell.execute_reply": "2023-01-31T14:11:44.331116Z"
    },
    "papermill": {
     "duration": 9.198485,
     "end_time": "2023-01-31T14:11:44.334641",
     "exception": false,
     "start_time": "2023-01-31T14:11:35.136156",
     "status": "completed"
    },
    "tags": []
   },
   "outputs": [
    {
     "data": {
      "text/html": [
       "<script type=\"esms-options\">{\"shimMode\": true}</script><style>*[data-root-id],\n",
       "*[data-root-id] > * {\n",
       "  box-sizing: border-box;\n",
       "  font-family: var(--jp-ui-font-family);\n",
       "  font-size: var(--jp-ui-font-size1);\n",
       "  color: var(--vscode-editor-foreground, var(--jp-ui-font-color1));\n",
       "}\n",
       "\n",
       "/* Override VSCode background color */\n",
       ".cell-output-ipywidget-background:has(\n",
       "  > .cell-output-ipywidget-background > .lm-Widget > *[data-root-id]\n",
       "),\n",
       ".cell-output-ipywidget-background:has(> .lm-Widget > *[data-root-id]) {\n",
       "  background-color: transparent !important;\n",
       "}\n",
       "</style>"
      ]
     },
     "metadata": {},
     "output_type": "display_data"
    },
    {
     "data": {
      "application/javascript": "(function(root) {\n  function now() {\n    return new Date();\n  }\n\n  const force = true;\n  const py_version = '3.8.0'.replace('rc', '-rc.').replace('.dev', '-dev.');\n  const reloading = false;\n  const Bokeh = root.Bokeh;\n\n  // Set a timeout for this load but only if we are not already initializing\n  if (typeof (root._bokeh_timeout) === \"undefined\" || (force || !root._bokeh_is_initializing)) {\n    root._bokeh_timeout = Date.now() + 5000;\n    root._bokeh_failed_load = false;\n  }\n\n  function run_callbacks() {\n    try {\n      root._bokeh_onload_callbacks.forEach(function(callback) {\n        if (callback != null)\n          callback();\n      });\n    } finally {\n      delete root._bokeh_onload_callbacks;\n    }\n    console.debug(\"Bokeh: all callbacks have finished\");\n  }\n\n  function load_libs(css_urls, js_urls, js_modules, js_exports, callback) {\n    if (css_urls == null) css_urls = [];\n    if (js_urls == null) js_urls = [];\n    if (js_modules == null) js_modules = [];\n    if (js_exports == null) js_exports = {};\n\n    root._bokeh_onload_callbacks.push(callback);\n\n    if (root._bokeh_is_loading > 0) {\n      // Don't load bokeh if it is still initializing\n      console.debug(\"Bokeh: BokehJS is being loaded, scheduling callback at\", now());\n      return null;\n    } else if (js_urls.length === 0 && js_modules.length === 0 && Object.keys(js_exports).length === 0) {\n      // There is nothing to load\n      run_callbacks();\n      return null;\n    }\n\n    function on_load() {\n      root._bokeh_is_loading--;\n      if (root._bokeh_is_loading === 0) {\n        console.debug(\"Bokeh: all BokehJS libraries/stylesheets loaded\");\n        run_callbacks()\n      }\n    }\n    window._bokeh_on_load = on_load\n\n    function on_error(e) {\n      const src_el = e.srcElement\n      console.error(\"failed to load \" + (src_el.href || src_el.src));\n    }\n\n    const skip = [];\n    if (window.requirejs) {\n      window.requirejs.config({'packages': {}, 'paths': {}, 'shim': {}});\n      root._bokeh_is_loading = css_urls.length + 0;\n    } else {\n      root._bokeh_is_loading = css_urls.length + js_urls.length + js_modules.length + Object.keys(js_exports).length;\n    }\n\n    const existing_stylesheets = []\n    const links = document.getElementsByTagName('link')\n    for (let i = 0; i < links.length; i++) {\n      const link = links[i]\n      if (link.href != null) {\n        existing_stylesheets.push(link.href)\n      }\n    }\n    for (let i = 0; i < css_urls.length; i++) {\n      const url = css_urls[i];\n      const escaped = encodeURI(url)\n      if (existing_stylesheets.indexOf(escaped) !== -1) {\n        on_load()\n        continue;\n      }\n      const element = document.createElement(\"link\");\n      element.onload = on_load;\n      element.onerror = on_error;\n      element.rel = \"stylesheet\";\n      element.type = \"text/css\";\n      element.href = url;\n      console.debug(\"Bokeh: injecting link tag for BokehJS stylesheet: \", url);\n      document.body.appendChild(element);\n    }    var existing_scripts = []\n    const scripts = document.getElementsByTagName('script')\n    for (let i = 0; i < scripts.length; i++) {\n      var script = scripts[i]\n      if (script.src != null) {\n        existing_scripts.push(script.src)\n      }\n    }\n    for (let i = 0; i < js_urls.length; i++) {\n      const url = js_urls[i];\n      const escaped = encodeURI(url)\n      if (skip.indexOf(escaped) !== -1 || existing_scripts.indexOf(escaped) !== -1) {\n        if (!window.requirejs) {\n          on_load();\n        }\n        continue;\n      }\n      const element = document.createElement('script');\n      element.onload = on_load;\n      element.onerror = on_error;\n      element.async = false;\n      element.src = url;\n      console.debug(\"Bokeh: injecting script tag for BokehJS library: \", url);\n      document.head.appendChild(element);\n    }\n    for (let i = 0; i < js_modules.length; i++) {\n      const url = js_modules[i];\n      const escaped = encodeURI(url)\n      if (skip.indexOf(escaped) !== -1 || existing_scripts.indexOf(escaped) !== -1) {\n        if (!window.requirejs) {\n          on_load();\n        }\n        continue;\n      }\n      var element = document.createElement('script');\n      element.onload = on_load;\n      element.onerror = on_error;\n      element.async = false;\n      element.src = url;\n      element.type = \"module\";\n      console.debug(\"Bokeh: injecting script tag for BokehJS library: \", url);\n      document.head.appendChild(element);\n    }\n    for (const name in js_exports) {\n      const url = js_exports[name];\n      const escaped = encodeURI(url)\n      if (skip.indexOf(escaped) >= 0 || root[name] != null) {\n        if (!window.requirejs) {\n          on_load();\n        }\n        continue;\n      }\n      var element = document.createElement('script');\n      element.onerror = on_error;\n      element.async = false;\n      element.type = \"module\";\n      console.debug(\"Bokeh: injecting script tag for BokehJS library: \", url);\n      element.textContent = `\n      import ${name} from \"${url}\"\n      window.${name} = ${name}\n      window._bokeh_on_load()\n      `\n      document.head.appendChild(element);\n    }\n    if (!js_urls.length && !js_modules.length) {\n      on_load()\n    }\n  };\n\n  function inject_raw_css(css) {\n    const element = document.createElement(\"style\");\n    element.appendChild(document.createTextNode(css));\n    document.body.appendChild(element);\n  }\n\n  const js_urls = [\"https://cdn.holoviz.org/panel/1.8.2/dist/bundled/reactiveesm/es-module-shims@^1.10.0/dist/es-module-shims.min.js\", \"https://cdn.bokeh.org/bokeh/release/bokeh-3.8.0.min.js\", \"https://cdn.bokeh.org/bokeh/release/bokeh-gl-3.8.0.min.js\", \"https://cdn.bokeh.org/bokeh/release/bokeh-widgets-3.8.0.min.js\", \"https://cdn.bokeh.org/bokeh/release/bokeh-tables-3.8.0.min.js\", \"https://cdn.holoviz.org/panel/1.8.2/dist/panel.min.js\"];\n  const js_modules = [];\n  const js_exports = {};\n  const css_urls = [];\n  const inline_js = [    function(Bokeh) {\n      Bokeh.set_log_level(\"info\");\n    },\nfunction(Bokeh) {} // ensure no trailing comma for IE\n  ];\n\n  function run_inline_js() {\n    if ((root.Bokeh !== undefined) || (force === true)) {\n      for (let i = 0; i < inline_js.length; i++) {\n        try {\n          inline_js[i].call(root, root.Bokeh);\n        } catch(e) {\n          if (!reloading) {\n            throw e;\n          }\n        }\n      }\n      // Cache old bokeh versions\n      if (Bokeh != undefined && !reloading) {\n        var NewBokeh = root.Bokeh;\n        if (Bokeh.versions === undefined) {\n          Bokeh.versions = new Map();\n        }\n        if (NewBokeh.version !== Bokeh.version) {\n          Bokeh.versions.set(NewBokeh.version, NewBokeh)\n        }\n        root.Bokeh = Bokeh;\n      }\n    } else if (Date.now() < root._bokeh_timeout) {\n      setTimeout(run_inline_js, 100);\n    } else if (!root._bokeh_failed_load) {\n      console.log(\"Bokeh: BokehJS failed to load within specified timeout.\");\n      root._bokeh_failed_load = true;\n    }\n    root._bokeh_is_initializing = false\n  }\n\n  function load_or_wait() {\n    // Implement a backoff loop that tries to ensure we do not load multiple\n    // versions of Bokeh and its dependencies at the same time.\n    // In recent versions we use the root._bokeh_is_initializing flag\n    // to determine whether there is an ongoing attempt to initialize\n    // bokeh, however for backward compatibility we also try to ensure\n    // that we do not start loading a newer (Panel>=1.0 and Bokeh>3) version\n    // before older versions are fully initialized.\n    if (root._bokeh_is_initializing && Date.now() > root._bokeh_timeout) {\n      // If the timeout and bokeh was not successfully loaded we reset\n      // everything and try loading again\n      root._bokeh_timeout = Date.now() + 5000;\n      root._bokeh_is_initializing = false;\n      root._bokeh_onload_callbacks = undefined;\n      root._bokeh_is_loading = 0\n      console.log(\"Bokeh: BokehJS was loaded multiple times but one version failed to initialize.\");\n      load_or_wait();\n    } else if (root._bokeh_is_initializing || (typeof root._bokeh_is_initializing === \"undefined\" && root._bokeh_onload_callbacks !== undefined)) {\n      setTimeout(load_or_wait, 100);\n    } else {\n      root._bokeh_is_initializing = true\n      root._bokeh_onload_callbacks = []\n      const bokeh_loaded = root.Bokeh != null && (root.Bokeh.version === py_version || (root.Bokeh.versions !== undefined && root.Bokeh.versions.has(py_version)));\n      if (!reloading && !bokeh_loaded) {\n        if (root.Bokeh) {\n          root.Bokeh = undefined;\n        }\n        console.debug(\"Bokeh: BokehJS not loaded, scheduling load and callback at\", now());\n      }\n      load_libs(css_urls, js_urls, js_modules, js_exports, function() {\n        console.debug(\"Bokeh: BokehJS plotting callback run at\", now());\n        run_inline_js();\n      });\n    }\n  }\n  // Give older versions of the autoload script a head-start to ensure\n  // they initialize before we start loading newer version.\n  setTimeout(load_or_wait, 100)\n}(window));",
      "application/vnd.holoviews_load.v0+json": ""
     },
     "metadata": {},
     "output_type": "display_data"
    },
    {
     "data": {
      "application/javascript": "\nif ((window.PyViz === undefined) || (window.PyViz instanceof HTMLElement)) {\n  window.PyViz = {comms: {}, comm_status:{}, kernels:{}, receivers: {}, plot_index: []}\n}\n\n\n    function JupyterCommManager() {\n    }\n\n    JupyterCommManager.prototype.register_target = function(plot_id, comm_id, msg_handler) {\n      if (window.comm_manager || ((window.Jupyter !== undefined) && (Jupyter.notebook.kernel != null))) {\n        var comm_manager = window.comm_manager || Jupyter.notebook.kernel.comm_manager;\n        comm_manager.register_target(comm_id, function(comm) {\n          comm.on_msg(msg_handler);\n        });\n      } else if ((plot_id in window.PyViz.kernels) && (window.PyViz.kernels[plot_id])) {\n        window.PyViz.kernels[plot_id].registerCommTarget(comm_id, function(comm) {\n          comm.onMsg = msg_handler;\n        });\n      } else if (typeof google != 'undefined' && google.colab.kernel != null) {\n        google.colab.kernel.comms.registerTarget(comm_id, (comm) => {\n          var messages = comm.messages[Symbol.asyncIterator]();\n          function processIteratorResult(result) {\n            var message = result.value;\n            var content = {data: message.data, comm_id};\n            var buffers = []\n            for (var buffer of message.buffers || []) {\n              buffers.push(new DataView(buffer))\n            }\n            var metadata = message.metadata || {};\n            var msg = {content, buffers, metadata}\n            msg_handler(msg);\n            return messages.next().then(processIteratorResult);\n          }\n          return messages.next().then(processIteratorResult);\n        })\n      }\n    }\n\n    JupyterCommManager.prototype.get_client_comm = function(plot_id, comm_id, msg_handler) {\n      if (comm_id in window.PyViz.comms) {\n        return window.PyViz.comms[comm_id];\n      } else if (window.comm_manager || ((window.Jupyter !== undefined) && (Jupyter.notebook.kernel != null))) {\n        var comm_manager = window.comm_manager || Jupyter.notebook.kernel.comm_manager;\n        var comm = comm_manager.new_comm(comm_id, {}, {}, {}, comm_id);\n        if (msg_handler) {\n          comm.on_msg(msg_handler);\n        }\n      } else if ((plot_id in window.PyViz.kernels) && (window.PyViz.kernels[plot_id])) {\n        var comm = window.PyViz.kernels[plot_id].connectToComm(comm_id);\n        let retries = 0;\n        const open = () => {\n          if (comm.active) {\n            comm.open();\n          } else if (retries > 3) {\n            console.warn('Comm target never activated')\n          } else {\n            retries += 1\n            setTimeout(open, 500)\n          }\n        }\n        if (comm.active) {\n          comm.open();\n        } else {\n          setTimeout(open, 500)\n        }\n        if (msg_handler) {\n          comm.onMsg = msg_handler;\n        }\n      } else if (typeof google != 'undefined' && google.colab.kernel != null) {\n        var comm_promise = google.colab.kernel.comms.open(comm_id)\n        comm_promise.then((comm) => {\n          window.PyViz.comms[comm_id] = comm;\n          if (msg_handler) {\n            var messages = comm.messages[Symbol.asyncIterator]();\n            function processIteratorResult(result) {\n              var message = result.value;\n              var content = {data: message.data};\n              var metadata = message.metadata || {comm_id};\n              var msg = {content, metadata}\n              msg_handler(msg);\n              return messages.next().then(processIteratorResult);\n            }\n            return messages.next().then(processIteratorResult);\n          }\n        })\n        var sendClosure = (data, metadata, buffers, disposeOnDone) => {\n          return comm_promise.then((comm) => {\n            comm.send(data, metadata, buffers, disposeOnDone);\n          });\n        };\n        var comm = {\n          send: sendClosure\n        };\n      }\n      window.PyViz.comms[comm_id] = comm;\n      return comm;\n    }\n    window.PyViz.comm_manager = new JupyterCommManager();\n    \n\n\nvar JS_MIME_TYPE = 'application/javascript';\nvar HTML_MIME_TYPE = 'text/html';\nvar EXEC_MIME_TYPE = 'application/vnd.holoviews_exec.v0+json';\nvar CLASS_NAME = 'output';\n\n/**\n * Render data to the DOM node\n */\nfunction render(props, node) {\n  var div = document.createElement(\"div\");\n  var script = document.createElement(\"script\");\n  node.appendChild(div);\n  node.appendChild(script);\n}\n\n/**\n * Handle when a new output is added\n */\nfunction handle_add_output(event, handle) {\n  var output_area = handle.output_area;\n  var output = handle.output;\n  if ((output.data == undefined) || (!output.data.hasOwnProperty(EXEC_MIME_TYPE))) {\n    return\n  }\n  var id = output.metadata[EXEC_MIME_TYPE][\"id\"];\n  var toinsert = output_area.element.find(\".\" + CLASS_NAME.split(' ')[0]);\n  if (id !== undefined) {\n    var nchildren = toinsert.length;\n    var html_node = toinsert[nchildren-1].children[0];\n    html_node.innerHTML = output.data[HTML_MIME_TYPE];\n    var scripts = [];\n    var nodelist = html_node.querySelectorAll(\"script\");\n    for (var i in nodelist) {\n      if (nodelist.hasOwnProperty(i)) {\n        scripts.push(nodelist[i])\n      }\n    }\n\n    scripts.forEach( function (oldScript) {\n      var newScript = document.createElement(\"script\");\n      var attrs = [];\n      var nodemap = oldScript.attributes;\n      for (var j in nodemap) {\n        if (nodemap.hasOwnProperty(j)) {\n          attrs.push(nodemap[j])\n        }\n      }\n      attrs.forEach(function(attr) { newScript.setAttribute(attr.name, attr.value) });\n      newScript.appendChild(document.createTextNode(oldScript.innerHTML));\n      oldScript.parentNode.replaceChild(newScript, oldScript);\n    });\n    if (JS_MIME_TYPE in output.data) {\n      toinsert[nchildren-1].children[1].textContent = output.data[JS_MIME_TYPE];\n    }\n    output_area._hv_plot_id = id;\n    if ((window.Bokeh !== undefined) && (id in Bokeh.index)) {\n      window.PyViz.plot_index[id] = Bokeh.index[id];\n    } else {\n      window.PyViz.plot_index[id] = null;\n    }\n  } else if (output.metadata[EXEC_MIME_TYPE][\"server_id\"] !== undefined) {\n    var bk_div = document.createElement(\"div\");\n    bk_div.innerHTML = output.data[HTML_MIME_TYPE];\n    var script_attrs = bk_div.children[0].attributes;\n    for (var i = 0; i < script_attrs.length; i++) {\n      toinsert[toinsert.length - 1].childNodes[1].setAttribute(script_attrs[i].name, script_attrs[i].value);\n    }\n    // store reference to server id on output_area\n    output_area._bokeh_server_id = output.metadata[EXEC_MIME_TYPE][\"server_id\"];\n  }\n}\n\n/**\n * Handle when an output is cleared or removed\n */\nfunction handle_clear_output(event, handle) {\n  var id = handle.cell.output_area._hv_plot_id;\n  var server_id = handle.cell.output_area._bokeh_server_id;\n  if (((id === undefined) || !(id in PyViz.plot_index)) && (server_id !== undefined)) { return; }\n  var comm = window.PyViz.comm_manager.get_client_comm(\"hv-extension-comm\", \"hv-extension-comm\", function () {});\n  if (server_id !== null) {\n    comm.send({event_type: 'server_delete', 'id': server_id});\n    return;\n  } else if (comm !== null) {\n    comm.send({event_type: 'delete', 'id': id});\n  }\n  delete PyViz.plot_index[id];\n  if ((window.Bokeh !== undefined) & (id in window.Bokeh.index)) {\n    var doc = window.Bokeh.index[id].model.document\n    doc.clear();\n    const i = window.Bokeh.documents.indexOf(doc);\n    if (i > -1) {\n      window.Bokeh.documents.splice(i, 1);\n    }\n  }\n}\n\n/**\n * Handle kernel restart event\n */\nfunction handle_kernel_cleanup(event, handle) {\n  delete PyViz.comms[\"hv-extension-comm\"];\n  window.PyViz.plot_index = {}\n}\n\n/**\n * Handle update_display_data messages\n */\nfunction handle_update_output(event, handle) {\n  handle_clear_output(event, {cell: {output_area: handle.output_area}})\n  handle_add_output(event, handle)\n}\n\nfunction register_renderer(events, OutputArea) {\n  function append_mime(data, metadata, element) {\n    // create a DOM node to render to\n    var toinsert = this.create_output_subarea(\n    metadata,\n    CLASS_NAME,\n    EXEC_MIME_TYPE\n    );\n    this.keyboard_manager.register_events(toinsert);\n    // Render to node\n    var props = {data: data, metadata: metadata[EXEC_MIME_TYPE]};\n    render(props, toinsert[0]);\n    element.append(toinsert);\n    return toinsert\n  }\n\n  events.on('output_added.OutputArea', handle_add_output);\n  events.on('output_updated.OutputArea', handle_update_output);\n  events.on('clear_output.CodeCell', handle_clear_output);\n  events.on('delete.Cell', handle_clear_output);\n  events.on('kernel_ready.Kernel', handle_kernel_cleanup);\n\n  OutputArea.prototype.register_mime_type(EXEC_MIME_TYPE, append_mime, {\n    safe: true,\n    index: 0\n  });\n}\n\nif (window.Jupyter !== undefined) {\n  try {\n    var events = require('base/js/events');\n    var OutputArea = require('notebook/js/outputarea').OutputArea;\n    if (OutputArea.prototype.mime_types().indexOf(EXEC_MIME_TYPE) == -1) {\n      register_renderer(events, OutputArea);\n    }\n  } catch(err) {\n  }\n}\n",
      "application/vnd.holoviews_load.v0+json": ""
     },
     "metadata": {},
     "output_type": "display_data"
    },
    {
     "data": {
      "application/vnd.holoviews_exec.v0+json": "",
      "text/html": [
       "<div id='2077c468-8d28-4580-9768-cdf54be4a4ca'>\n",
       "  <div id=\"eaa17954-1704-40a2-a336-a635ad7cdae0\" data-root-id=\"2077c468-8d28-4580-9768-cdf54be4a4ca\" style=\"display: contents;\"></div>\n",
       "</div>\n",
       "<script type=\"application/javascript\">(function(root) {\n",
       "  var docs_json = {\"166c278d-b264-4eda-b672-b6bbb15c58ca\":{\"version\":\"3.8.0\",\"title\":\"Bokeh Application\",\"config\":{\"type\":\"object\",\"name\":\"DocumentConfig\",\"id\":\"67f8d30d-b144-40d8-8977-f72dc3fb95e7\",\"attributes\":{\"notifications\":{\"type\":\"object\",\"name\":\"Notifications\",\"id\":\"155ac3ca-1c06-4dc6-b72b-e217b49c2fc8\"}}},\"roots\":[{\"type\":\"object\",\"name\":\"panel.models.browser.BrowserInfo\",\"id\":\"2077c468-8d28-4580-9768-cdf54be4a4ca\"},{\"type\":\"object\",\"name\":\"panel.models.comm_manager.CommManager\",\"id\":\"d0800a0c-bf4c-4d5c-834b-841bc428517b\",\"attributes\":{\"plot_id\":\"2077c468-8d28-4580-9768-cdf54be4a4ca\",\"comm_id\":\"3c75b94923dd4ec1992c859dfabc1caf\",\"client_comm_id\":\"e6cabbd1dff44cc9ad784f392a0ef22a\"}}],\"defs\":[{\"type\":\"model\",\"name\":\"ReactiveHTML1\"},{\"type\":\"model\",\"name\":\"FlexBox1\",\"properties\":[{\"name\":\"align_content\",\"kind\":\"Any\",\"default\":\"flex-start\"},{\"name\":\"align_items\",\"kind\":\"Any\",\"default\":\"flex-start\"},{\"name\":\"flex_direction\",\"kind\":\"Any\",\"default\":\"row\"},{\"name\":\"flex_wrap\",\"kind\":\"Any\",\"default\":\"wrap\"},{\"name\":\"gap\",\"kind\":\"Any\",\"default\":\"\"},{\"name\":\"justify_content\",\"kind\":\"Any\",\"default\":\"flex-start\"}]},{\"type\":\"model\",\"name\":\"FloatPanel1\",\"properties\":[{\"name\":\"config\",\"kind\":\"Any\",\"default\":{\"type\":\"map\"}},{\"name\":\"contained\",\"kind\":\"Any\",\"default\":true},{\"name\":\"position\",\"kind\":\"Any\",\"default\":\"right-top\"},{\"name\":\"offsetx\",\"kind\":\"Any\",\"default\":null},{\"name\":\"offsety\",\"kind\":\"Any\",\"default\":null},{\"name\":\"theme\",\"kind\":\"Any\",\"default\":\"primary\"},{\"name\":\"status\",\"kind\":\"Any\",\"default\":\"normalized\"}]},{\"type\":\"model\",\"name\":\"GridStack1\",\"properties\":[{\"name\":\"ncols\",\"kind\":\"Any\",\"default\":null},{\"name\":\"nrows\",\"kind\":\"Any\",\"default\":null},{\"name\":\"allow_resize\",\"kind\":\"Any\",\"default\":true},{\"name\":\"allow_drag\",\"kind\":\"Any\",\"default\":true},{\"name\":\"state\",\"kind\":\"Any\",\"default\":[]}]},{\"type\":\"model\",\"name\":\"drag1\",\"properties\":[{\"name\":\"slider_width\",\"kind\":\"Any\",\"default\":5},{\"name\":\"slider_color\",\"kind\":\"Any\",\"default\":\"black\"},{\"name\":\"start\",\"kind\":\"Any\",\"default\":0},{\"name\":\"end\",\"kind\":\"Any\",\"default\":100},{\"name\":\"value\",\"kind\":\"Any\",\"default\":50}]},{\"type\":\"model\",\"name\":\"click1\",\"properties\":[{\"name\":\"terminal_output\",\"kind\":\"Any\",\"default\":\"\"},{\"name\":\"debug_name\",\"kind\":\"Any\",\"default\":\"\"},{\"name\":\"clears\",\"kind\":\"Any\",\"default\":0}]},{\"type\":\"model\",\"name\":\"ReactiveESM1\",\"properties\":[{\"name\":\"esm_constants\",\"kind\":\"Any\",\"default\":{\"type\":\"map\"}}]},{\"type\":\"model\",\"name\":\"JSComponent1\",\"properties\":[{\"name\":\"esm_constants\",\"kind\":\"Any\",\"default\":{\"type\":\"map\"}}]},{\"type\":\"model\",\"name\":\"ReactComponent1\",\"properties\":[{\"name\":\"use_shadow_dom\",\"kind\":\"Any\",\"default\":true},{\"name\":\"esm_constants\",\"kind\":\"Any\",\"default\":{\"type\":\"map\"}}]},{\"type\":\"model\",\"name\":\"AnyWidgetComponent1\",\"properties\":[{\"name\":\"use_shadow_dom\",\"kind\":\"Any\",\"default\":true},{\"name\":\"esm_constants\",\"kind\":\"Any\",\"default\":{\"type\":\"map\"}}]},{\"type\":\"model\",\"name\":\"FastWrapper1\",\"properties\":[{\"name\":\"object\",\"kind\":\"Any\",\"default\":null},{\"name\":\"style\",\"kind\":\"Any\",\"default\":null}]},{\"type\":\"model\",\"name\":\"NotificationArea1\",\"properties\":[{\"name\":\"js_events\",\"kind\":\"Any\",\"default\":{\"type\":\"map\"}},{\"name\":\"max_notifications\",\"kind\":\"Any\",\"default\":5},{\"name\":\"notifications\",\"kind\":\"Any\",\"default\":[]},{\"name\":\"position\",\"kind\":\"Any\",\"default\":\"bottom-right\"},{\"name\":\"_clear\",\"kind\":\"Any\",\"default\":0},{\"name\":\"types\",\"kind\":\"Any\",\"default\":[{\"type\":\"map\",\"entries\":[[\"type\",\"warning\"],[\"background\",\"#ffc107\"],[\"icon\",{\"type\":\"map\",\"entries\":[[\"className\",\"fas fa-exclamation-triangle\"],[\"tagName\",\"i\"],[\"color\",\"white\"]]}]]},{\"type\":\"map\",\"entries\":[[\"type\",\"info\"],[\"background\",\"#007bff\"],[\"icon\",{\"type\":\"map\",\"entries\":[[\"className\",\"fas fa-info-circle\"],[\"tagName\",\"i\"],[\"color\",\"white\"]]}]]}]}]},{\"type\":\"model\",\"name\":\"Notification\",\"properties\":[{\"name\":\"background\",\"kind\":\"Any\",\"default\":null},{\"name\":\"duration\",\"kind\":\"Any\",\"default\":3000},{\"name\":\"icon\",\"kind\":\"Any\",\"default\":null},{\"name\":\"message\",\"kind\":\"Any\",\"default\":\"\"},{\"name\":\"notification_type\",\"kind\":\"Any\",\"default\":null},{\"name\":\"_rendered\",\"kind\":\"Any\",\"default\":false},{\"name\":\"_destroyed\",\"kind\":\"Any\",\"default\":false}]},{\"type\":\"model\",\"name\":\"TemplateActions1\",\"properties\":[{\"name\":\"open_modal\",\"kind\":\"Any\",\"default\":0},{\"name\":\"close_modal\",\"kind\":\"Any\",\"default\":0}]},{\"type\":\"model\",\"name\":\"BootstrapTemplateActions1\",\"properties\":[{\"name\":\"open_modal\",\"kind\":\"Any\",\"default\":0},{\"name\":\"close_modal\",\"kind\":\"Any\",\"default\":0}]},{\"type\":\"model\",\"name\":\"TemplateEditor1\",\"properties\":[{\"name\":\"layout\",\"kind\":\"Any\",\"default\":[]}]},{\"type\":\"model\",\"name\":\"MaterialTemplateActions1\",\"properties\":[{\"name\":\"open_modal\",\"kind\":\"Any\",\"default\":0},{\"name\":\"close_modal\",\"kind\":\"Any\",\"default\":0}]},{\"type\":\"model\",\"name\":\"request_value1\",\"properties\":[{\"name\":\"fill\",\"kind\":\"Any\",\"default\":\"none\"},{\"name\":\"_synced\",\"kind\":\"Any\",\"default\":null},{\"name\":\"_request_sync\",\"kind\":\"Any\",\"default\":0}]},{\"type\":\"model\",\"name\":\"holoviews.plotting.bokeh.raster.HoverModel\",\"properties\":[{\"name\":\"xy\",\"kind\":\"Any\",\"default\":null},{\"name\":\"data\",\"kind\":\"Any\",\"default\":null}]}]}};\n",
       "  var render_items = [{\"docid\":\"166c278d-b264-4eda-b672-b6bbb15c58ca\",\"roots\":{\"2077c468-8d28-4580-9768-cdf54be4a4ca\":\"eaa17954-1704-40a2-a336-a635ad7cdae0\"},\"root_ids\":[\"2077c468-8d28-4580-9768-cdf54be4a4ca\"]}];\n",
       "  var docs = Object.values(docs_json)\n",
       "  if (!docs) {\n",
       "    return\n",
       "  }\n",
       "  const py_version = docs[0].version.replace('rc', '-rc.').replace('.dev', '-dev.')\n",
       "  async function embed_document(root) {\n",
       "    var Bokeh = get_bokeh(root)\n",
       "    await Bokeh.embed.embed_items_notebook(docs_json, render_items);\n",
       "    for (const render_item of render_items) {\n",
       "      for (const root_id of render_item.root_ids) {\n",
       "\tconst id_el = document.getElementById(root_id)\n",
       "\tif (id_el.children.length && id_el.children[0].hasAttribute('data-root-id')) {\n",
       "\t  const root_el = id_el.children[0]\n",
       "\t  root_el.id = root_el.id + '-rendered'\n",
       "\t  for (const child of root_el.children) {\n",
       "            // Ensure JupyterLab does not capture keyboard shortcuts\n",
       "            // see: https://jupyterlab.readthedocs.io/en/4.1.x/extension/notebook.html#keyboard-interaction-model\n",
       "\t    child.setAttribute('data-lm-suppress-shortcuts', 'true')\n",
       "\t  }\n",
       "\t}\n",
       "      }\n",
       "    }\n",
       "  }\n",
       "  function get_bokeh(root) {\n",
       "    if (root.Bokeh === undefined) {\n",
       "      return null\n",
       "    } else if (root.Bokeh.version !== py_version) {\n",
       "      if (root.Bokeh.versions === undefined || !root.Bokeh.versions.has(py_version)) {\n",
       "\treturn null\n",
       "      }\n",
       "      return root.Bokeh.versions.get(py_version);\n",
       "    } else if (root.Bokeh.version === py_version) {\n",
       "      return root.Bokeh\n",
       "    }\n",
       "    return null\n",
       "  }\n",
       "  function is_loaded(root) {\n",
       "    var Bokeh = get_bokeh(root)\n",
       "    return (Bokeh != null && Bokeh.Panel !== undefined)\n",
       "  }\n",
       "  if (is_loaded(root)) {\n",
       "    embed_document(root);\n",
       "  } else {\n",
       "    var attempts = 0;\n",
       "    var timer = setInterval(function(root) {\n",
       "      if (is_loaded(root)) {\n",
       "        clearInterval(timer);\n",
       "        embed_document(root);\n",
       "      } else if (document.readyState == \"complete\") {\n",
       "        attempts++;\n",
       "        if (attempts > 200) {\n",
       "          clearInterval(timer);\n",
       "\t  var Bokeh = get_bokeh(root)\n",
       "\t  if (Bokeh == null || Bokeh.Panel == null) {\n",
       "            console.warn(\"Panel: ERROR: Unable to run Panel code because Bokeh or Panel library is missing\");\n",
       "\t  } else {\n",
       "\t    console.warn(\"Panel: WARNING: Attempting to render but not all required libraries could be resolved.\")\n",
       "\t    embed_document(root)\n",
       "\t  }\n",
       "        }\n",
       "      }\n",
       "    }, 25, root)\n",
       "  }\n",
       "})(window);</script>"
      ]
     },
     "metadata": {
      "application/vnd.holoviews_exec.v0+json": {
       "id": "2077c468-8d28-4580-9768-cdf54be4a4ca"
      }
     },
     "output_type": "display_data"
    }
   ],
   "source": [
    "import pandas as pd\n",
    "import numpy as np\n",
    "import seaborn as sns\n",
    "from scipy import stats \n",
    "import matplotlib.pyplot as plt\n",
    "import hvplot.pandas\n",
    "\n",
    "from sklearn.model_selection import train_test_split, RandomizedSearchCV\n",
    "from sklearn.preprocessing import MinMaxScaler\n",
    "\n",
    "from sklearn.metrics import (\n",
    "    accuracy_score, confusion_matrix, classification_report, \n",
    "    roc_auc_score, roc_curve, auc\n",
    ")\n",
    "from sklearn.metrics import ConfusionMatrixDisplay, RocCurveDisplay\n",
    "\n",
    "from xgboost import XGBClassifier\n",
    "from sklearn.ensemble import RandomForestClassifier\n",
    "from sklearn.neural_network import MLPClassifier\n",
    "\n",
    "pd.set_option('display.float', '{:.2f}'.format)\n",
    "pd.set_option('display.max_columns', 50)\n",
    "pd.set_option('display.max_rows', 50)"
   ]
  },
  {
   "cell_type": "code",
   "execution_count": 44,
   "id": "276d0ec7",
   "metadata": {
    "execution": {
     "iopub.execute_input": "2023-01-31T14:11:44.602805Z",
     "iopub.status.busy": "2023-01-31T14:11:44.602108Z",
     "iopub.status.idle": "2023-01-31T14:11:47.931616Z",
     "shell.execute_reply": "2023-01-31T14:11:47.930713Z"
    },
    "papermill": {
     "duration": 3.467387,
     "end_time": "2023-01-31T14:11:47.933929",
     "exception": false,
     "start_time": "2023-01-31T14:11:44.466542",
     "status": "completed"
    },
    "tags": []
   },
   "outputs": [
    {
     "data": {
      "text/html": [
       "<div>\n",
       "<style scoped>\n",
       "    .dataframe tbody tr th:only-of-type {\n",
       "        vertical-align: middle;\n",
       "    }\n",
       "\n",
       "    .dataframe tbody tr th {\n",
       "        vertical-align: top;\n",
       "    }\n",
       "\n",
       "    .dataframe thead th {\n",
       "        text-align: right;\n",
       "    }\n",
       "</style>\n",
       "<table border=\"1\" class=\"dataframe\">\n",
       "  <thead>\n",
       "    <tr style=\"text-align: right;\">\n",
       "      <th></th>\n",
       "      <th>loan_amnt</th>\n",
       "      <th>term</th>\n",
       "      <th>int_rate</th>\n",
       "      <th>installment</th>\n",
       "      <th>grade</th>\n",
       "      <th>sub_grade</th>\n",
       "      <th>emp_title</th>\n",
       "      <th>emp_length</th>\n",
       "      <th>home_ownership</th>\n",
       "      <th>annual_inc</th>\n",
       "      <th>verification_status</th>\n",
       "      <th>issue_d</th>\n",
       "      <th>loan_status</th>\n",
       "      <th>purpose</th>\n",
       "      <th>title</th>\n",
       "      <th>dti</th>\n",
       "      <th>earliest_cr_line</th>\n",
       "      <th>open_acc</th>\n",
       "      <th>pub_rec</th>\n",
       "      <th>revol_bal</th>\n",
       "      <th>revol_util</th>\n",
       "      <th>total_acc</th>\n",
       "      <th>initial_list_status</th>\n",
       "      <th>application_type</th>\n",
       "      <th>mort_acc</th>\n",
       "      <th>pub_rec_bankruptcies</th>\n",
       "      <th>address</th>\n",
       "    </tr>\n",
       "  </thead>\n",
       "  <tbody>\n",
       "    <tr>\n",
       "      <th>0</th>\n",
       "      <td>10000.00</td>\n",
       "      <td>36 months</td>\n",
       "      <td>11.44</td>\n",
       "      <td>329.48</td>\n",
       "      <td>B</td>\n",
       "      <td>B4</td>\n",
       "      <td>Marketing</td>\n",
       "      <td>10+ years</td>\n",
       "      <td>RENT</td>\n",
       "      <td>117000.00</td>\n",
       "      <td>Not Verified</td>\n",
       "      <td>Jan-2015</td>\n",
       "      <td>Fully Paid</td>\n",
       "      <td>vacation</td>\n",
       "      <td>Vacation</td>\n",
       "      <td>26.24</td>\n",
       "      <td>Jun-1990</td>\n",
       "      <td>16.00</td>\n",
       "      <td>0.00</td>\n",
       "      <td>36369.00</td>\n",
       "      <td>41.80</td>\n",
       "      <td>25.00</td>\n",
       "      <td>w</td>\n",
       "      <td>INDIVIDUAL</td>\n",
       "      <td>0.00</td>\n",
       "      <td>0.00</td>\n",
       "      <td>0174 Michelle Gateway\\r\\nMendozaberg, OK 22690</td>\n",
       "    </tr>\n",
       "    <tr>\n",
       "      <th>1</th>\n",
       "      <td>8000.00</td>\n",
       "      <td>36 months</td>\n",
       "      <td>11.99</td>\n",
       "      <td>265.68</td>\n",
       "      <td>B</td>\n",
       "      <td>B5</td>\n",
       "      <td>Credit analyst</td>\n",
       "      <td>4 years</td>\n",
       "      <td>MORTGAGE</td>\n",
       "      <td>65000.00</td>\n",
       "      <td>Not Verified</td>\n",
       "      <td>Jan-2015</td>\n",
       "      <td>Fully Paid</td>\n",
       "      <td>debt_consolidation</td>\n",
       "      <td>Debt consolidation</td>\n",
       "      <td>22.05</td>\n",
       "      <td>Jul-2004</td>\n",
       "      <td>17.00</td>\n",
       "      <td>0.00</td>\n",
       "      <td>20131.00</td>\n",
       "      <td>53.30</td>\n",
       "      <td>27.00</td>\n",
       "      <td>f</td>\n",
       "      <td>INDIVIDUAL</td>\n",
       "      <td>3.00</td>\n",
       "      <td>0.00</td>\n",
       "      <td>1076 Carney Fort Apt. 347\\r\\nLoganmouth, SD 05113</td>\n",
       "    </tr>\n",
       "    <tr>\n",
       "      <th>2</th>\n",
       "      <td>15600.00</td>\n",
       "      <td>36 months</td>\n",
       "      <td>10.49</td>\n",
       "      <td>506.97</td>\n",
       "      <td>B</td>\n",
       "      <td>B3</td>\n",
       "      <td>Statistician</td>\n",
       "      <td>&lt; 1 year</td>\n",
       "      <td>RENT</td>\n",
       "      <td>43057.00</td>\n",
       "      <td>Source Verified</td>\n",
       "      <td>Jan-2015</td>\n",
       "      <td>Fully Paid</td>\n",
       "      <td>credit_card</td>\n",
       "      <td>Credit card refinancing</td>\n",
       "      <td>12.79</td>\n",
       "      <td>Aug-2007</td>\n",
       "      <td>13.00</td>\n",
       "      <td>0.00</td>\n",
       "      <td>11987.00</td>\n",
       "      <td>92.20</td>\n",
       "      <td>26.00</td>\n",
       "      <td>f</td>\n",
       "      <td>INDIVIDUAL</td>\n",
       "      <td>0.00</td>\n",
       "      <td>0.00</td>\n",
       "      <td>87025 Mark Dale Apt. 269\\r\\nNew Sabrina, WV 05113</td>\n",
       "    </tr>\n",
       "    <tr>\n",
       "      <th>3</th>\n",
       "      <td>7200.00</td>\n",
       "      <td>36 months</td>\n",
       "      <td>6.49</td>\n",
       "      <td>220.65</td>\n",
       "      <td>A</td>\n",
       "      <td>A2</td>\n",
       "      <td>Client Advocate</td>\n",
       "      <td>6 years</td>\n",
       "      <td>RENT</td>\n",
       "      <td>54000.00</td>\n",
       "      <td>Not Verified</td>\n",
       "      <td>Nov-2014</td>\n",
       "      <td>Fully Paid</td>\n",
       "      <td>credit_card</td>\n",
       "      <td>Credit card refinancing</td>\n",
       "      <td>2.60</td>\n",
       "      <td>Sep-2006</td>\n",
       "      <td>6.00</td>\n",
       "      <td>0.00</td>\n",
       "      <td>5472.00</td>\n",
       "      <td>21.50</td>\n",
       "      <td>13.00</td>\n",
       "      <td>f</td>\n",
       "      <td>INDIVIDUAL</td>\n",
       "      <td>0.00</td>\n",
       "      <td>0.00</td>\n",
       "      <td>823 Reid Ford\\r\\nDelacruzside, MA 00813</td>\n",
       "    </tr>\n",
       "    <tr>\n",
       "      <th>4</th>\n",
       "      <td>24375.00</td>\n",
       "      <td>60 months</td>\n",
       "      <td>17.27</td>\n",
       "      <td>609.33</td>\n",
       "      <td>C</td>\n",
       "      <td>C5</td>\n",
       "      <td>Destiny Management Inc.</td>\n",
       "      <td>9 years</td>\n",
       "      <td>MORTGAGE</td>\n",
       "      <td>55000.00</td>\n",
       "      <td>Verified</td>\n",
       "      <td>Apr-2013</td>\n",
       "      <td>Charged Off</td>\n",
       "      <td>credit_card</td>\n",
       "      <td>Credit Card Refinance</td>\n",
       "      <td>33.95</td>\n",
       "      <td>Mar-1999</td>\n",
       "      <td>13.00</td>\n",
       "      <td>0.00</td>\n",
       "      <td>24584.00</td>\n",
       "      <td>69.80</td>\n",
       "      <td>43.00</td>\n",
       "      <td>f</td>\n",
       "      <td>INDIVIDUAL</td>\n",
       "      <td>1.00</td>\n",
       "      <td>0.00</td>\n",
       "      <td>679 Luna Roads\\r\\nGreggshire, VA 11650</td>\n",
       "    </tr>\n",
       "  </tbody>\n",
       "</table>\n",
       "</div>"
      ],
      "text/plain": [
       "   loan_amnt        term  int_rate  installment grade sub_grade  \\\n",
       "0   10000.00   36 months     11.44       329.48     B        B4   \n",
       "1    8000.00   36 months     11.99       265.68     B        B5   \n",
       "2   15600.00   36 months     10.49       506.97     B        B3   \n",
       "3    7200.00   36 months      6.49       220.65     A        A2   \n",
       "4   24375.00   60 months     17.27       609.33     C        C5   \n",
       "\n",
       "                 emp_title emp_length home_ownership  annual_inc  \\\n",
       "0                Marketing  10+ years           RENT   117000.00   \n",
       "1          Credit analyst     4 years       MORTGAGE    65000.00   \n",
       "2             Statistician   < 1 year           RENT    43057.00   \n",
       "3          Client Advocate    6 years           RENT    54000.00   \n",
       "4  Destiny Management Inc.    9 years       MORTGAGE    55000.00   \n",
       "\n",
       "  verification_status   issue_d  loan_status             purpose  \\\n",
       "0        Not Verified  Jan-2015   Fully Paid            vacation   \n",
       "1        Not Verified  Jan-2015   Fully Paid  debt_consolidation   \n",
       "2     Source Verified  Jan-2015   Fully Paid         credit_card   \n",
       "3        Not Verified  Nov-2014   Fully Paid         credit_card   \n",
       "4            Verified  Apr-2013  Charged Off         credit_card   \n",
       "\n",
       "                     title   dti earliest_cr_line  open_acc  pub_rec  \\\n",
       "0                 Vacation 26.24         Jun-1990     16.00     0.00   \n",
       "1       Debt consolidation 22.05         Jul-2004     17.00     0.00   \n",
       "2  Credit card refinancing 12.79         Aug-2007     13.00     0.00   \n",
       "3  Credit card refinancing  2.60         Sep-2006      6.00     0.00   \n",
       "4    Credit Card Refinance 33.95         Mar-1999     13.00     0.00   \n",
       "\n",
       "   revol_bal  revol_util  total_acc initial_list_status application_type  \\\n",
       "0   36369.00       41.80      25.00                   w       INDIVIDUAL   \n",
       "1   20131.00       53.30      27.00                   f       INDIVIDUAL   \n",
       "2   11987.00       92.20      26.00                   f       INDIVIDUAL   \n",
       "3    5472.00       21.50      13.00                   f       INDIVIDUAL   \n",
       "4   24584.00       69.80      43.00                   f       INDIVIDUAL   \n",
       "\n",
       "   mort_acc  pub_rec_bankruptcies  \\\n",
       "0      0.00                  0.00   \n",
       "1      3.00                  0.00   \n",
       "2      0.00                  0.00   \n",
       "3      0.00                  0.00   \n",
       "4      1.00                  0.00   \n",
       "\n",
       "                                             address  \n",
       "0     0174 Michelle Gateway\\r\\nMendozaberg, OK 22690  \n",
       "1  1076 Carney Fort Apt. 347\\r\\nLoganmouth, SD 05113  \n",
       "2  87025 Mark Dale Apt. 269\\r\\nNew Sabrina, WV 05113  \n",
       "3            823 Reid Ford\\r\\nDelacruzside, MA 00813  \n",
       "4             679 Luna Roads\\r\\nGreggshire, VA 11650  "
      ]
     },
     "execution_count": 44,
     "metadata": {},
     "output_type": "execute_result"
    }
   ],
   "source": [
    "data = pd.read_csv(\"./lending_club_loan_two.csv\")\n",
    "data.head()"
   ]
  },
  {
   "cell_type": "code",
   "execution_count": 45,
   "id": "d0def3d9",
   "metadata": {
    "execution": {
     "iopub.execute_input": "2023-01-31T14:11:48.208667Z",
     "iopub.status.busy": "2023-01-31T14:11:48.208157Z",
     "iopub.status.idle": "2023-01-31T14:11:48.428818Z",
     "shell.execute_reply": "2023-01-31T14:11:48.427863Z"
    },
    "papermill": {
     "duration": 0.360858,
     "end_time": "2023-01-31T14:11:48.431029",
     "exception": false,
     "start_time": "2023-01-31T14:11:48.070171",
     "status": "completed"
    },
    "tags": []
   },
   "outputs": [
    {
     "data": {
      "text/html": [
       "<div>\n",
       "<style scoped>\n",
       "    .dataframe tbody tr th:only-of-type {\n",
       "        vertical-align: middle;\n",
       "    }\n",
       "\n",
       "    .dataframe tbody tr th {\n",
       "        vertical-align: top;\n",
       "    }\n",
       "\n",
       "    .dataframe thead th {\n",
       "        text-align: right;\n",
       "    }\n",
       "</style>\n",
       "<table border=\"1\" class=\"dataframe\">\n",
       "  <thead>\n",
       "    <tr style=\"text-align: right;\">\n",
       "      <th></th>\n",
       "      <th>loan_amnt</th>\n",
       "      <th>int_rate</th>\n",
       "      <th>installment</th>\n",
       "      <th>annual_inc</th>\n",
       "      <th>dti</th>\n",
       "      <th>open_acc</th>\n",
       "      <th>pub_rec</th>\n",
       "      <th>revol_bal</th>\n",
       "      <th>revol_util</th>\n",
       "      <th>total_acc</th>\n",
       "      <th>mort_acc</th>\n",
       "      <th>pub_rec_bankruptcies</th>\n",
       "    </tr>\n",
       "  </thead>\n",
       "  <tbody>\n",
       "    <tr>\n",
       "      <th>count</th>\n",
       "      <td>396030.00</td>\n",
       "      <td>396030.00</td>\n",
       "      <td>396030.00</td>\n",
       "      <td>396030.00</td>\n",
       "      <td>396030.00</td>\n",
       "      <td>396030.00</td>\n",
       "      <td>396030.00</td>\n",
       "      <td>396030.00</td>\n",
       "      <td>395754.00</td>\n",
       "      <td>396030.00</td>\n",
       "      <td>358235.00</td>\n",
       "      <td>395495.00</td>\n",
       "    </tr>\n",
       "    <tr>\n",
       "      <th>mean</th>\n",
       "      <td>14113.89</td>\n",
       "      <td>13.64</td>\n",
       "      <td>431.85</td>\n",
       "      <td>74203.18</td>\n",
       "      <td>17.38</td>\n",
       "      <td>11.31</td>\n",
       "      <td>0.18</td>\n",
       "      <td>15844.54</td>\n",
       "      <td>53.79</td>\n",
       "      <td>25.41</td>\n",
       "      <td>1.81</td>\n",
       "      <td>0.12</td>\n",
       "    </tr>\n",
       "    <tr>\n",
       "      <th>std</th>\n",
       "      <td>8357.44</td>\n",
       "      <td>4.47</td>\n",
       "      <td>250.73</td>\n",
       "      <td>61637.62</td>\n",
       "      <td>18.02</td>\n",
       "      <td>5.14</td>\n",
       "      <td>0.53</td>\n",
       "      <td>20591.84</td>\n",
       "      <td>24.45</td>\n",
       "      <td>11.89</td>\n",
       "      <td>2.15</td>\n",
       "      <td>0.36</td>\n",
       "    </tr>\n",
       "    <tr>\n",
       "      <th>min</th>\n",
       "      <td>500.00</td>\n",
       "      <td>5.32</td>\n",
       "      <td>16.08</td>\n",
       "      <td>0.00</td>\n",
       "      <td>0.00</td>\n",
       "      <td>0.00</td>\n",
       "      <td>0.00</td>\n",
       "      <td>0.00</td>\n",
       "      <td>0.00</td>\n",
       "      <td>2.00</td>\n",
       "      <td>0.00</td>\n",
       "      <td>0.00</td>\n",
       "    </tr>\n",
       "    <tr>\n",
       "      <th>25%</th>\n",
       "      <td>8000.00</td>\n",
       "      <td>10.49</td>\n",
       "      <td>250.33</td>\n",
       "      <td>45000.00</td>\n",
       "      <td>11.28</td>\n",
       "      <td>8.00</td>\n",
       "      <td>0.00</td>\n",
       "      <td>6025.00</td>\n",
       "      <td>35.80</td>\n",
       "      <td>17.00</td>\n",
       "      <td>0.00</td>\n",
       "      <td>0.00</td>\n",
       "    </tr>\n",
       "    <tr>\n",
       "      <th>50%</th>\n",
       "      <td>12000.00</td>\n",
       "      <td>13.33</td>\n",
       "      <td>375.43</td>\n",
       "      <td>64000.00</td>\n",
       "      <td>16.91</td>\n",
       "      <td>10.00</td>\n",
       "      <td>0.00</td>\n",
       "      <td>11181.00</td>\n",
       "      <td>54.80</td>\n",
       "      <td>24.00</td>\n",
       "      <td>1.00</td>\n",
       "      <td>0.00</td>\n",
       "    </tr>\n",
       "    <tr>\n",
       "      <th>75%</th>\n",
       "      <td>20000.00</td>\n",
       "      <td>16.49</td>\n",
       "      <td>567.30</td>\n",
       "      <td>90000.00</td>\n",
       "      <td>22.98</td>\n",
       "      <td>14.00</td>\n",
       "      <td>0.00</td>\n",
       "      <td>19620.00</td>\n",
       "      <td>72.90</td>\n",
       "      <td>32.00</td>\n",
       "      <td>3.00</td>\n",
       "      <td>0.00</td>\n",
       "    </tr>\n",
       "    <tr>\n",
       "      <th>max</th>\n",
       "      <td>40000.00</td>\n",
       "      <td>30.99</td>\n",
       "      <td>1533.81</td>\n",
       "      <td>8706582.00</td>\n",
       "      <td>9999.00</td>\n",
       "      <td>90.00</td>\n",
       "      <td>86.00</td>\n",
       "      <td>1743266.00</td>\n",
       "      <td>892.30</td>\n",
       "      <td>151.00</td>\n",
       "      <td>34.00</td>\n",
       "      <td>8.00</td>\n",
       "    </tr>\n",
       "  </tbody>\n",
       "</table>\n",
       "</div>"
      ],
      "text/plain": [
       "       loan_amnt  int_rate  installment  annual_inc       dti  open_acc  \\\n",
       "count  396030.00 396030.00    396030.00   396030.00 396030.00 396030.00   \n",
       "mean    14113.89     13.64       431.85    74203.18     17.38     11.31   \n",
       "std      8357.44      4.47       250.73    61637.62     18.02      5.14   \n",
       "min       500.00      5.32        16.08        0.00      0.00      0.00   \n",
       "25%      8000.00     10.49       250.33    45000.00     11.28      8.00   \n",
       "50%     12000.00     13.33       375.43    64000.00     16.91     10.00   \n",
       "75%     20000.00     16.49       567.30    90000.00     22.98     14.00   \n",
       "max     40000.00     30.99      1533.81  8706582.00   9999.00     90.00   \n",
       "\n",
       "        pub_rec  revol_bal  revol_util  total_acc  mort_acc  \\\n",
       "count 396030.00  396030.00   395754.00  396030.00 358235.00   \n",
       "mean       0.18   15844.54       53.79      25.41      1.81   \n",
       "std        0.53   20591.84       24.45      11.89      2.15   \n",
       "min        0.00       0.00        0.00       2.00      0.00   \n",
       "25%        0.00    6025.00       35.80      17.00      0.00   \n",
       "50%        0.00   11181.00       54.80      24.00      1.00   \n",
       "75%        0.00   19620.00       72.90      32.00      3.00   \n",
       "max       86.00 1743266.00      892.30     151.00     34.00   \n",
       "\n",
       "       pub_rec_bankruptcies  \n",
       "count             395495.00  \n",
       "mean                   0.12  \n",
       "std                    0.36  \n",
       "min                    0.00  \n",
       "25%                    0.00  \n",
       "50%                    0.00  \n",
       "75%                    0.00  \n",
       "max                    8.00  "
      ]
     },
     "execution_count": 45,
     "metadata": {},
     "output_type": "execute_result"
    }
   ],
   "source": [
    "data.describe()"
   ]
  },
  {
   "cell_type": "code",
   "execution_count": 46,
   "id": "c3a25541",
   "metadata": {
    "execution": {
     "iopub.execute_input": "2023-01-31T14:11:48.971332Z",
     "iopub.status.busy": "2023-01-31T14:11:48.970869Z",
     "iopub.status.idle": "2023-01-31T14:11:49.178902Z",
     "shell.execute_reply": "2023-01-31T14:11:49.177821Z"
    },
    "papermill": {
     "duration": 0.345476,
     "end_time": "2023-01-31T14:11:49.181182",
     "exception": false,
     "start_time": "2023-01-31T14:11:48.835706",
     "status": "completed"
    },
    "tags": []
   },
   "outputs": [
    {
     "name": "stdout",
     "output_type": "stream",
     "text": [
      "<class 'pandas.core.frame.DataFrame'>\n",
      "RangeIndex: 396030 entries, 0 to 396029\n",
      "Data columns (total 27 columns):\n",
      " #   Column                Non-Null Count   Dtype  \n",
      "---  ------                --------------   -----  \n",
      " 0   loan_amnt             396030 non-null  float64\n",
      " 1   term                  396030 non-null  object \n",
      " 2   int_rate              396030 non-null  float64\n",
      " 3   installment           396030 non-null  float64\n",
      " 4   grade                 396030 non-null  object \n",
      " 5   sub_grade             396030 non-null  object \n",
      " 6   emp_title             373103 non-null  object \n",
      " 7   emp_length            377729 non-null  object \n",
      " 8   home_ownership        396030 non-null  object \n",
      " 9   annual_inc            396030 non-null  float64\n",
      " 10  verification_status   396030 non-null  object \n",
      " 11  issue_d               396030 non-null  object \n",
      " 12  loan_status           396030 non-null  object \n",
      " 13  purpose               396030 non-null  object \n",
      " 14  title                 394274 non-null  object \n",
      " 15  dti                   396030 non-null  float64\n",
      " 16  earliest_cr_line      396030 non-null  object \n",
      " 17  open_acc              396030 non-null  float64\n",
      " 18  pub_rec               396030 non-null  float64\n",
      " 19  revol_bal             396030 non-null  float64\n",
      " 20  revol_util            395754 non-null  float64\n",
      " 21  total_acc             396030 non-null  float64\n",
      " 22  initial_list_status   396030 non-null  object \n",
      " 23  application_type      396030 non-null  object \n",
      " 24  mort_acc              358235 non-null  float64\n",
      " 25  pub_rec_bankruptcies  395495 non-null  float64\n",
      " 26  address               396030 non-null  object \n",
      "dtypes: float64(12), object(15)\n",
      "memory usage: 81.6+ MB\n"
     ]
    }
   ],
   "source": [
    "data.info()"
   ]
  },
  {
   "cell_type": "markdown",
   "id": "db8b8b6c",
   "metadata": {
    "papermill": {
     "duration": 0.162622,
     "end_time": "2023-01-31T14:12:36.953142",
     "exception": false,
     "start_time": "2023-01-31T14:12:36.790520",
     "status": "completed"
    },
    "tags": []
   },
   "source": [
    "# Outliers Detection and Removing"
   ]
  },
  {
   "cell_type": "code",
   "execution_count": 47,
   "id": "0abe8b1b",
   "metadata": {
    "execution": {
     "iopub.execute_input": "2023-01-31T14:12:37.264848Z",
     "iopub.status.busy": "2023-01-31T14:12:37.264453Z",
     "iopub.status.idle": "2023-01-31T14:12:37.269065Z",
     "shell.execute_reply": "2023-01-31T14:12:37.268062Z"
    },
    "papermill": {
     "duration": 0.162094,
     "end_time": "2023-01-31T14:12:37.271137",
     "exception": false,
     "start_time": "2023-01-31T14:12:37.109043",
     "status": "completed"
    },
    "tags": []
   },
   "outputs": [],
   "source": [
    "## We need to remove outliers found in the analysis"
   ]
  },
  {
   "cell_type": "markdown",
   "id": "0174e794",
   "metadata": {
    "papermill": {
     "duration": 0.152855,
     "end_time": "2023-01-31T14:12:37.578196",
     "exception": false,
     "start_time": "2023-01-31T14:12:37.425341",
     "status": "completed"
    },
    "tags": []
   },
   "source": [
    "# 🔄 Data PreProcessing\n",
    "\n",
    "**Section Goals:** \n",
    "> - Remove or fill any missing data. \n",
    "> - Remove unnecessary or repetitive features. \n",
    "> - Convert categorical string features to dummy variables."
   ]
  },
  {
   "cell_type": "code",
   "execution_count": 48,
   "id": "a3f7b968",
   "metadata": {
    "execution": {
     "iopub.execute_input": "2023-01-31T14:12:37.891616Z",
     "iopub.status.busy": "2023-01-31T14:12:37.891224Z",
     "iopub.status.idle": "2023-01-31T14:12:37.896477Z",
     "shell.execute_reply": "2023-01-31T14:12:37.895493Z"
    },
    "papermill": {
     "duration": 0.166246,
     "end_time": "2023-01-31T14:12:37.899194",
     "exception": false,
     "start_time": "2023-01-31T14:12:37.732948",
     "status": "completed"
    },
    "tags": []
   },
   "outputs": [
    {
     "name": "stdout",
     "output_type": "stream",
     "text": [
      "The Length of the data: (396030, 27)\n"
     ]
    }
   ],
   "source": [
    "# The length of the data\n",
    "print(f\"The Length of the data: {data.shape}\")"
   ]
  },
  {
   "cell_type": "code",
   "execution_count": 49,
   "id": "3a5120f0",
   "metadata": {
    "execution": {
     "iopub.execute_input": "2023-01-31T14:12:38.208077Z",
     "iopub.status.busy": "2023-01-31T14:12:38.207044Z",
     "iopub.status.idle": "2023-01-31T14:12:38.418885Z",
     "shell.execute_reply": "2023-01-31T14:12:38.417592Z"
    },
    "papermill": {
     "duration": 0.369849,
     "end_time": "2023-01-31T14:12:38.421013",
     "exception": false,
     "start_time": "2023-01-31T14:12:38.051164",
     "status": "completed"
    },
    "tags": []
   },
   "outputs": [
    {
     "name": "stdout",
     "output_type": "stream",
     "text": [
      "'emp_title': number of missing values '22927' ==> '5.789%'\n",
      "'emp_length': number of missing values '18301' ==> '4.621%'\n",
      "'emp_length': number of missing values '18301' ==> '4.621%'\n",
      "'title': number of missing values '1756' ==> '0.443%'\n",
      "'revol_util': number of missing values '276' ==> '0.070%'\n",
      "'mort_acc': number of missing values '37795' ==> '9.543%'\n",
      "'pub_rec_bankruptcies': number of missing values '535' ==> '0.135%'\n",
      "'title': number of missing values '1756' ==> '0.443%'\n",
      "'revol_util': number of missing values '276' ==> '0.070%'\n",
      "'mort_acc': number of missing values '37795' ==> '9.543%'\n",
      "'pub_rec_bankruptcies': number of missing values '535' ==> '0.135%'\n"
     ]
    }
   ],
   "source": [
    "# Missing values\n",
    "for column in data.columns:\n",
    "    if data[column].isna().sum() != 0:\n",
    "        missing = data[column].isna().sum()\n",
    "        portion = (missing / data.shape[0]) * 100\n",
    "        print(f\"'{column}': number of missing values '{missing}' ==> '{portion:.3f}%'\")"
   ]
  },
  {
   "cell_type": "markdown",
   "id": "fd4ed1ca",
   "metadata": {
    "papermill": {
     "duration": 0.153546,
     "end_time": "2023-01-31T14:12:38.729424",
     "exception": false,
     "start_time": "2023-01-31T14:12:38.575878",
     "status": "completed"
    },
    "tags": []
   },
   "source": [
    "### `emp_title`"
   ]
  },
  {
   "cell_type": "code",
   "execution_count": 50,
   "id": "31fff0c5",
   "metadata": {
    "execution": {
     "iopub.execute_input": "2023-01-31T14:12:39.041691Z",
     "iopub.status.busy": "2023-01-31T14:12:39.041315Z",
     "iopub.status.idle": "2023-01-31T14:12:39.107185Z",
     "shell.execute_reply": "2023-01-31T14:12:39.106047Z"
    },
    "papermill": {
     "duration": 0.225569,
     "end_time": "2023-01-31T14:12:39.109800",
     "exception": false,
     "start_time": "2023-01-31T14:12:38.884231",
     "status": "completed"
    },
    "tags": []
   },
   "outputs": [
    {
     "data": {
      "text/plain": [
       "173105"
      ]
     },
     "execution_count": 50,
     "metadata": {},
     "output_type": "execute_result"
    }
   ],
   "source": [
    "data.emp_title.nunique()"
   ]
  },
  {
   "cell_type": "markdown",
   "id": "74d3e2a5",
   "metadata": {
    "papermill": {
     "duration": 0.153798,
     "end_time": "2023-01-31T14:12:39.419636",
     "exception": false,
     "start_time": "2023-01-31T14:12:39.265838",
     "status": "completed"
    },
    "tags": []
   },
   "source": [
    "Realistically there are too many unique job titles to try to convert this to a dummy variable feature. Let's remove that emp_title column."
   ]
  },
  {
   "cell_type": "code",
   "execution_count": 51,
   "id": "4e69498c",
   "metadata": {
    "execution": {
     "iopub.execute_input": "2023-01-31T14:12:39.733271Z",
     "iopub.status.busy": "2023-01-31T14:12:39.732764Z",
     "iopub.status.idle": "2023-01-31T14:12:39.823678Z",
     "shell.execute_reply": "2023-01-31T14:12:39.822304Z"
    },
    "papermill": {
     "duration": 0.253402,
     "end_time": "2023-01-31T14:12:39.826253",
     "exception": false,
     "start_time": "2023-01-31T14:12:39.572851",
     "status": "completed"
    },
    "tags": []
   },
   "outputs": [],
   "source": [
    "data.drop('emp_title', axis=1, inplace=True)"
   ]
  },
  {
   "cell_type": "markdown",
   "id": "4ac56861",
   "metadata": {
    "papermill": {
     "duration": 0.157447,
     "end_time": "2023-01-31T14:12:40.193207",
     "exception": false,
     "start_time": "2023-01-31T14:12:40.035760",
     "status": "completed"
    },
    "tags": []
   },
   "source": [
    "### `emp_length`"
   ]
  },
  {
   "cell_type": "code",
   "execution_count": 52,
   "id": "d1109872",
   "metadata": {
    "execution": {
     "iopub.execute_input": "2023-01-31T14:12:40.511490Z",
     "iopub.status.busy": "2023-01-31T14:12:40.511130Z",
     "iopub.status.idle": "2023-01-31T14:12:40.536770Z",
     "shell.execute_reply": "2023-01-31T14:12:40.535787Z"
    },
    "papermill": {
     "duration": 0.18835,
     "end_time": "2023-01-31T14:12:40.538845",
     "exception": false,
     "start_time": "2023-01-31T14:12:40.350495",
     "status": "completed"
    },
    "tags": []
   },
   "outputs": [
    {
     "data": {
      "text/plain": [
       "array(['10+ years', '4 years', '< 1 year', '6 years', '9 years',\n",
       "       '2 years', '3 years', '8 years', '7 years', '5 years', '1 year',\n",
       "       nan], dtype=object)"
      ]
     },
     "execution_count": 52,
     "metadata": {},
     "output_type": "execute_result"
    }
   ],
   "source": [
    "data.emp_length.unique()"
   ]
  },
  {
   "cell_type": "code",
   "execution_count": 53,
   "id": "d7555668",
   "metadata": {
    "execution": {
     "iopub.execute_input": "2023-01-31T14:12:40.853484Z",
     "iopub.status.busy": "2023-01-31T14:12:40.852478Z",
     "iopub.status.idle": "2023-01-31T14:12:41.357523Z",
     "shell.execute_reply": "2023-01-31T14:12:41.356169Z"
    },
    "papermill": {
     "duration": 0.666708,
     "end_time": "2023-01-31T14:12:41.359726",
     "exception": false,
     "start_time": "2023-01-31T14:12:40.693018",
     "status": "completed"
    },
    "tags": []
   },
   "outputs": [
    {
     "name": "stdout",
     "output_type": "stream",
     "text": [
      "10+ years years in this position:\n",
      "loan_status\n",
      "Fully Paid    0.82\n",
      "Charged Off   0.18\n",
      "Name: proportion, dtype: float64\n",
      "==========================================\n",
      "4 years years in this position:\n",
      "loan_status\n",
      "Fully Paid    0.81\n",
      "Charged Off   0.19\n",
      "Name: proportion, dtype: float64\n",
      "==========================================\n",
      "< 1 year years in this position:\n",
      "loan_status\n",
      "Fully Paid    0.79\n",
      "Charged Off   0.21\n",
      "Name: proportion, dtype: float64\n",
      "==========================================\n",
      "6 years years in this position:\n",
      "loan_status\n",
      "Fully Paid    0.81\n",
      "Charged Off   0.19\n",
      "Name: proportion, dtype: float64\n",
      "==========================================\n",
      "9 years years in this position:\n",
      "loan_status\n",
      "Fully Paid    0.80\n",
      "Charged Off   0.20\n",
      "Name: proportion, dtype: float64\n",
      "==========================================\n",
      "2 years years in this position:\n",
      "loan_status\n",
      "Fully Paid    0.81\n",
      "Charged Off   0.19\n",
      "Name: proportion, dtype: float64\n",
      "==========================================\n",
      "3 years years in this position:\n",
      "loan_status\n",
      "Fully Paid    0.80\n",
      "Charged Off   0.20\n",
      "Name: proportion, dtype: float64\n",
      "==========================================\n",
      "8 years years in this position:\n",
      "loan_status\n",
      "Fully Paid    0.80\n",
      "Charged Off   0.20\n",
      "Name: proportion, dtype: float64\n",
      "==========================================\n",
      "7 years years in this position:\n",
      "loan_status\n",
      "Fully Paid    0.80\n",
      "Charged Off   0.20\n",
      "Name: proportion, dtype: float64\n",
      "==========================================\n",
      "2 years years in this position:\n",
      "loan_status\n",
      "Fully Paid    0.81\n",
      "Charged Off   0.19\n",
      "Name: proportion, dtype: float64\n",
      "==========================================\n",
      "3 years years in this position:\n",
      "loan_status\n",
      "Fully Paid    0.80\n",
      "Charged Off   0.20\n",
      "Name: proportion, dtype: float64\n",
      "==========================================\n",
      "8 years years in this position:\n",
      "loan_status\n",
      "Fully Paid    0.80\n",
      "Charged Off   0.20\n",
      "Name: proportion, dtype: float64\n",
      "==========================================\n",
      "7 years years in this position:\n",
      "loan_status\n",
      "Fully Paid    0.81\n",
      "Charged Off   0.19\n",
      "Name: proportion, dtype: float64\n",
      "==========================================\n",
      "5 years years in this position:\n",
      "loan_status\n",
      "Fully Paid    0.81\n",
      "Charged Off   0.19\n",
      "Name: proportion, dtype: float64\n",
      "==========================================\n",
      "1 year years in this position:\n",
      "loan_status\n",
      "Fully Paid    0.80\n",
      "Charged Off   0.20\n",
      "Name: proportion, dtype: float64\n",
      "==========================================\n",
      "nan years in this position:\n",
      "Series([], Name: proportion, dtype: float64)\n",
      "==========================================\n",
      "loan_status\n",
      "Fully Paid    0.81\n",
      "Charged Off   0.19\n",
      "Name: proportion, dtype: float64\n",
      "==========================================\n",
      "5 years years in this position:\n",
      "loan_status\n",
      "Fully Paid    0.81\n",
      "Charged Off   0.19\n",
      "Name: proportion, dtype: float64\n",
      "==========================================\n",
      "1 year years in this position:\n",
      "loan_status\n",
      "Fully Paid    0.80\n",
      "Charged Off   0.20\n",
      "Name: proportion, dtype: float64\n",
      "==========================================\n",
      "nan years in this position:\n",
      "Series([], Name: proportion, dtype: float64)\n",
      "==========================================\n"
     ]
    }
   ],
   "source": [
    "for year in data.emp_length.unique():\n",
    "    print(f\"{year} years in this position:\")\n",
    "    print(f\"{data[data.emp_length == year].loan_status.value_counts(normalize=True)}\")\n",
    "    print('==========================================')"
   ]
  },
  {
   "cell_type": "markdown",
   "id": "f1ad195b",
   "metadata": {
    "papermill": {
     "duration": 0.241511,
     "end_time": "2023-01-31T14:12:41.814332",
     "exception": false,
     "start_time": "2023-01-31T14:12:41.572821",
     "status": "completed"
    },
    "tags": []
   },
   "source": [
    "Charge off rates are extremely similar across all employment lengths. So we are going to drop the `emp_length` column."
   ]
  },
  {
   "cell_type": "code",
   "execution_count": 54,
   "id": "08cd74d5",
   "metadata": {
    "execution": {
     "iopub.execute_input": "2023-01-31T14:12:42.216196Z",
     "iopub.status.busy": "2023-01-31T14:12:42.214985Z",
     "iopub.status.idle": "2023-01-31T14:12:42.301892Z",
     "shell.execute_reply": "2023-01-31T14:12:42.300870Z"
    },
    "papermill": {
     "duration": 0.253314,
     "end_time": "2023-01-31T14:12:42.304445",
     "exception": false,
     "start_time": "2023-01-31T14:12:42.051131",
     "status": "completed"
    },
    "tags": []
   },
   "outputs": [],
   "source": [
    "data.drop('emp_length', axis=1, inplace=True)"
   ]
  },
  {
   "cell_type": "markdown",
   "id": "9a03679c",
   "metadata": {
    "papermill": {
     "duration": 0.15497,
     "end_time": "2023-01-31T14:12:42.623502",
     "exception": false,
     "start_time": "2023-01-31T14:12:42.468532",
     "status": "completed"
    },
    "tags": []
   },
   "source": [
    "### `title`"
   ]
  },
  {
   "cell_type": "code",
   "execution_count": 55,
   "id": "3b66695f",
   "metadata": {
    "execution": {
     "iopub.execute_input": "2023-01-31T14:12:42.936415Z",
     "iopub.status.busy": "2023-01-31T14:12:42.936036Z",
     "iopub.status.idle": "2023-01-31T14:12:42.986007Z",
     "shell.execute_reply": "2023-01-31T14:12:42.984879Z"
    },
    "papermill": {
     "duration": 0.207784,
     "end_time": "2023-01-31T14:12:42.988632",
     "exception": false,
     "start_time": "2023-01-31T14:12:42.780848",
     "status": "completed"
    },
    "tags": []
   },
   "outputs": [
    {
     "data": {
      "text/plain": [
       "title\n",
       "Debt consolidation         152472\n",
       "Credit card refinancing     51487\n",
       "Home improvement            15264\n",
       "Other                       12930\n",
       "Debt Consolidation          11608\n",
       "Name: count, dtype: int64"
      ]
     },
     "execution_count": 55,
     "metadata": {},
     "output_type": "execute_result"
    }
   ],
   "source": [
    "data.title.value_counts().head()"
   ]
  },
  {
   "cell_type": "code",
   "execution_count": 56,
   "id": "9e41c72a",
   "metadata": {
    "execution": {
     "iopub.execute_input": "2023-01-31T14:12:43.299107Z",
     "iopub.status.busy": "2023-01-31T14:12:43.298021Z",
     "iopub.status.idle": "2023-01-31T14:12:43.325665Z",
     "shell.execute_reply": "2023-01-31T14:12:43.324658Z"
    },
    "papermill": {
     "duration": 0.184422,
     "end_time": "2023-01-31T14:12:43.327767",
     "exception": false,
     "start_time": "2023-01-31T14:12:43.143345",
     "status": "completed"
    },
    "tags": []
   },
   "outputs": [
    {
     "data": {
      "text/plain": [
       "purpose\n",
       "debt_consolidation    234507\n",
       "credit_card            83019\n",
       "home_improvement       24030\n",
       "other                  21185\n",
       "major_purchase          8790\n",
       "Name: count, dtype: int64"
      ]
     },
     "execution_count": 56,
     "metadata": {},
     "output_type": "execute_result"
    }
   ],
   "source": [
    "data.purpose.value_counts().head()"
   ]
  },
  {
   "cell_type": "markdown",
   "id": "a946b370",
   "metadata": {
    "papermill": {
     "duration": 0.154896,
     "end_time": "2023-01-31T14:12:43.642185",
     "exception": false,
     "start_time": "2023-01-31T14:12:43.487289",
     "status": "completed"
    },
    "tags": []
   },
   "source": [
    "The title column is simply a string subcategory/description of the purpose column. So we are going to drop the title column."
   ]
  },
  {
   "cell_type": "code",
   "execution_count": 57,
   "id": "87222d20",
   "metadata": {
    "execution": {
     "iopub.execute_input": "2023-01-31T14:12:43.955316Z",
     "iopub.status.busy": "2023-01-31T14:12:43.954293Z",
     "iopub.status.idle": "2023-01-31T14:12:44.029021Z",
     "shell.execute_reply": "2023-01-31T14:12:44.027978Z"
    },
    "papermill": {
     "duration": 0.232715,
     "end_time": "2023-01-31T14:12:44.031617",
     "exception": false,
     "start_time": "2023-01-31T14:12:43.798902",
     "status": "completed"
    },
    "tags": []
   },
   "outputs": [],
   "source": [
    "data.drop('title', axis=1, inplace=True)"
   ]
  },
  {
   "cell_type": "markdown",
   "id": "00fca018",
   "metadata": {
    "papermill": {
     "duration": 0.154279,
     "end_time": "2023-01-31T14:12:44.341279",
     "exception": false,
     "start_time": "2023-01-31T14:12:44.187000",
     "status": "completed"
    },
    "tags": []
   },
   "source": [
    "### `mort_acc`\n",
    "\n",
    "There are many ways we could deal with this missing data. We could attempt to build a simple model to fill it in, such as a linear model, we could just fill it in based on the mean of the other columns, or you could even bin the columns into categories and then set NaN as its own category. There is no 100% correct approach! \n",
    "\n",
    "Let's review the other columsn to see which most highly correlates to mort_acc"
   ]
  },
  {
   "cell_type": "code",
   "execution_count": 58,
   "id": "41a0c87b",
   "metadata": {
    "execution": {
     "iopub.execute_input": "2023-01-31T14:12:44.655052Z",
     "iopub.status.busy": "2023-01-31T14:12:44.653060Z",
     "iopub.status.idle": "2023-01-31T14:12:44.667971Z",
     "shell.execute_reply": "2023-01-31T14:12:44.666899Z"
    },
    "papermill": {
     "duration": 0.175319,
     "end_time": "2023-01-31T14:12:44.670092",
     "exception": false,
     "start_time": "2023-01-31T14:12:44.494773",
     "status": "completed"
    },
    "tags": []
   },
   "outputs": [
    {
     "data": {
      "text/plain": [
       "mort_acc\n",
       "0.00     139777\n",
       "1.00      60416\n",
       "2.00      49948\n",
       "3.00      38049\n",
       "4.00      27887\n",
       "5.00      18194\n",
       "6.00      11069\n",
       "7.00       6052\n",
       "8.00       3121\n",
       "9.00       1656\n",
       "10.00       865\n",
       "11.00       479\n",
       "12.00       264\n",
       "13.00       146\n",
       "14.00       107\n",
       "15.00        61\n",
       "16.00        37\n",
       "17.00        22\n",
       "18.00        18\n",
       "19.00        15\n",
       "20.00        13\n",
       "24.00        10\n",
       "22.00         7\n",
       "21.00         4\n",
       "25.00         4\n",
       "27.00         3\n",
       "26.00         2\n",
       "32.00         2\n",
       "31.00         2\n",
       "23.00         2\n",
       "34.00         1\n",
       "28.00         1\n",
       "30.00         1\n",
       "Name: count, dtype: int64"
      ]
     },
     "execution_count": 58,
     "metadata": {},
     "output_type": "execute_result"
    }
   ],
   "source": [
    "data.mort_acc.value_counts()"
   ]
  },
  {
   "cell_type": "code",
   "execution_count": 59,
   "id": "891733d8",
   "metadata": {
    "execution": {
     "iopub.execute_input": "2023-01-31T14:12:44.983451Z",
     "iopub.status.busy": "2023-01-31T14:12:44.983069Z",
     "iopub.status.idle": "2023-01-31T14:12:44.991441Z",
     "shell.execute_reply": "2023-01-31T14:12:44.990258Z"
    },
    "papermill": {
     "duration": 0.166463,
     "end_time": "2023-01-31T14:12:44.993460",
     "exception": false,
     "start_time": "2023-01-31T14:12:44.826997",
     "status": "completed"
    },
    "tags": []
   },
   "outputs": [
    {
     "data": {
      "text/plain": [
       "np.int64(37795)"
      ]
     },
     "execution_count": 59,
     "metadata": {},
     "output_type": "execute_result"
    }
   ],
   "source": [
    "data.mort_acc.isna().sum()"
   ]
  },
  {
   "cell_type": "markdown",
   "id": "be604f1e",
   "metadata": {
    "papermill": {
     "duration": 0.157466,
     "end_time": "2023-01-31T14:12:45.923922",
     "exception": false,
     "start_time": "2023-01-31T14:12:45.766456",
     "status": "completed"
    },
    "tags": []
   },
   "source": [
    "Looks like the total_acc feature correlates with the mort_acc , this makes sense! Let's try this fillna() approach. We will group the dataframe by the total_acc and calculate the mean value for the mort_acc per total_acc entry. To get the result below:"
   ]
  },
  {
   "cell_type": "code",
   "execution_count": 60,
   "id": "655aa19d",
   "metadata": {
    "execution": {
     "iopub.execute_input": "2023-01-31T14:12:46.237863Z",
     "iopub.status.busy": "2023-01-31T14:12:46.237469Z",
     "iopub.status.idle": "2023-01-31T14:12:46.332340Z",
     "shell.execute_reply": "2023-01-31T14:12:46.331345Z"
    },
    "papermill": {
     "duration": 0.253754,
     "end_time": "2023-01-31T14:12:46.335011",
     "exception": false,
     "start_time": "2023-01-31T14:12:46.081257",
     "status": "completed"
    },
    "tags": []
   },
   "outputs": [],
   "source": [
    "total_acc_avg = data.groupby(by='total_acc')['mort_acc'].mean()"
   ]
  },
  {
   "cell_type": "code",
   "execution_count": 61,
   "id": "b117359c",
   "metadata": {
    "execution": {
     "iopub.execute_input": "2023-01-31T14:12:46.654049Z",
     "iopub.status.busy": "2023-01-31T14:12:46.651882Z",
     "iopub.status.idle": "2023-01-31T14:12:46.658992Z",
     "shell.execute_reply": "2023-01-31T14:12:46.657913Z"
    },
    "papermill": {
     "duration": 0.16887,
     "end_time": "2023-01-31T14:12:46.660980",
     "exception": false,
     "start_time": "2023-01-31T14:12:46.492110",
     "status": "completed"
    },
    "tags": []
   },
   "outputs": [],
   "source": [
    "def fill_mort_acc(total_acc, mort_acc):\n",
    "    if np.isnan(mort_acc):\n",
    "        return total_acc_avg[total_acc].round()\n",
    "    else:\n",
    "        return mort_acc"
   ]
  },
  {
   "cell_type": "code",
   "execution_count": 62,
   "id": "75bb4c76",
   "metadata": {
    "execution": {
     "iopub.execute_input": "2023-01-31T14:12:46.991455Z",
     "iopub.status.busy": "2023-01-31T14:12:46.990863Z",
     "iopub.status.idle": "2023-01-31T14:12:57.341490Z",
     "shell.execute_reply": "2023-01-31T14:12:57.340452Z"
    },
    "papermill": {
     "duration": 10.520365,
     "end_time": "2023-01-31T14:12:57.343915",
     "exception": false,
     "start_time": "2023-01-31T14:12:46.823550",
     "status": "completed"
    },
    "tags": []
   },
   "outputs": [],
   "source": [
    "data['mort_acc'] = data.apply(lambda x: fill_mort_acc(x['total_acc'], x['mort_acc']), axis=1)"
   ]
  },
  {
   "cell_type": "markdown",
   "id": "bffb4178",
   "metadata": {
    "papermill": {
     "duration": 0.156009,
     "end_time": "2023-01-31T14:12:57.656526",
     "exception": false,
     "start_time": "2023-01-31T14:12:57.500517",
     "status": "completed"
    },
    "tags": []
   },
   "source": [
    "### `revol_util` & `pub_rec_bankruptcies`\n",
    "These two features have missing data points, but they account for less than 0.5% of the total data. So we are going to remove the rows that are missing those values in those columns with dropna()."
   ]
  },
  {
   "cell_type": "code",
   "execution_count": 63,
   "id": "4752a829",
   "metadata": {
    "execution": {
     "iopub.execute_input": "2023-01-31T14:12:57.973866Z",
     "iopub.status.busy": "2023-01-31T14:12:57.973485Z",
     "iopub.status.idle": "2023-01-31T14:12:58.107244Z",
     "shell.execute_reply": "2023-01-31T14:12:58.106190Z"
    },
    "papermill": {
     "duration": 0.2977,
     "end_time": "2023-01-31T14:12:58.109603",
     "exception": false,
     "start_time": "2023-01-31T14:12:57.811903",
     "status": "completed"
    },
    "tags": []
   },
   "outputs": [
    {
     "name": "stdout",
     "output_type": "stream",
     "text": [
      "'revol_util': number of missing values '276' ==> '0.070%'\n",
      "'pub_rec_bankruptcies': number of missing values '535' ==> '0.135%'\n"
     ]
    }
   ],
   "source": [
    "for column in data.columns:\n",
    "    if data[column].isna().sum() != 0:\n",
    "        missing = data[column].isna().sum()\n",
    "        portion = (missing / data.shape[0]) * 100\n",
    "        print(f\"'{column}': number of missing values '{missing}' ==> '{portion:.3f}%'\")"
   ]
  },
  {
   "cell_type": "code",
   "execution_count": 64,
   "id": "38ed484b",
   "metadata": {
    "execution": {
     "iopub.execute_input": "2023-01-31T14:12:58.425005Z",
     "iopub.status.busy": "2023-01-31T14:12:58.424030Z",
     "iopub.status.idle": "2023-01-31T14:12:58.632168Z",
     "shell.execute_reply": "2023-01-31T14:12:58.631141Z"
    },
    "papermill": {
     "duration": 0.369642,
     "end_time": "2023-01-31T14:12:58.634630",
     "exception": false,
     "start_time": "2023-01-31T14:12:58.264988",
     "status": "completed"
    },
    "tags": []
   },
   "outputs": [],
   "source": [
    "data.dropna(inplace=True)"
   ]
  },
  {
   "cell_type": "code",
   "execution_count": 65,
   "id": "2451fc01",
   "metadata": {
    "execution": {
     "iopub.execute_input": "2023-01-31T14:12:58.947973Z",
     "iopub.status.busy": "2023-01-31T14:12:58.947619Z",
     "iopub.status.idle": "2023-01-31T14:12:58.953981Z",
     "shell.execute_reply": "2023-01-31T14:12:58.953057Z"
    },
    "papermill": {
     "duration": 0.167537,
     "end_time": "2023-01-31T14:12:58.956153",
     "exception": false,
     "start_time": "2023-01-31T14:12:58.788616",
     "status": "completed"
    },
    "tags": []
   },
   "outputs": [
    {
     "data": {
      "text/plain": [
       "(395219, 24)"
      ]
     },
     "execution_count": 65,
     "metadata": {},
     "output_type": "execute_result"
    }
   ],
   "source": [
    "data.shape"
   ]
  },
  {
   "cell_type": "markdown",
   "id": "dbd71208",
   "metadata": {
    "papermill": {
     "duration": 0.154966,
     "end_time": "2023-01-31T14:12:59.267766",
     "exception": false,
     "start_time": "2023-01-31T14:12:59.112800",
     "status": "completed"
    },
    "tags": []
   },
   "source": [
    "## 🧮 Categorical Variables and Dummy Variables"
   ]
  },
  {
   "cell_type": "code",
   "execution_count": 66,
   "id": "a9a0443b",
   "metadata": {
    "execution": {
     "iopub.execute_input": "2023-01-31T14:12:59.581380Z",
     "iopub.status.busy": "2023-01-31T14:12:59.580307Z",
     "iopub.status.idle": "2023-01-31T14:12:59.587991Z",
     "shell.execute_reply": "2023-01-31T14:12:59.586565Z"
    },
    "papermill": {
     "duration": 0.167857,
     "end_time": "2023-01-31T14:12:59.590494",
     "exception": false,
     "start_time": "2023-01-31T14:12:59.422637",
     "status": "completed"
    },
    "tags": []
   },
   "outputs": [
    {
     "name": "stdout",
     "output_type": "stream",
     "text": [
      "['term', 'grade', 'sub_grade', 'home_ownership', 'verification_status', 'issue_d', 'loan_status', 'purpose', 'earliest_cr_line', 'initial_list_status', 'application_type', 'address']\n"
     ]
    }
   ],
   "source": [
    "print([column for column in data.columns if data[column].dtype == object])"
   ]
  },
  {
   "cell_type": "markdown",
   "id": "20623395",
   "metadata": {
    "papermill": {
     "duration": 0.156275,
     "end_time": "2023-01-31T14:12:59.902049",
     "exception": false,
     "start_time": "2023-01-31T14:12:59.745774",
     "status": "completed"
    },
    "tags": []
   },
   "source": [
    "### `term`"
   ]
  },
  {
   "cell_type": "code",
   "execution_count": 67,
   "id": "157b0699",
   "metadata": {
    "execution": {
     "iopub.execute_input": "2023-01-31T14:13:00.218650Z",
     "iopub.status.busy": "2023-01-31T14:13:00.217514Z",
     "iopub.status.idle": "2023-01-31T14:13:00.247794Z",
     "shell.execute_reply": "2023-01-31T14:13:00.246722Z"
    },
    "papermill": {
     "duration": 0.189848,
     "end_time": "2023-01-31T14:13:00.249831",
     "exception": false,
     "start_time": "2023-01-31T14:13:00.059983",
     "status": "completed"
    },
    "tags": []
   },
   "outputs": [
    {
     "data": {
      "text/plain": [
       "array([' 36 months', ' 60 months'], dtype=object)"
      ]
     },
     "execution_count": 67,
     "metadata": {},
     "output_type": "execute_result"
    }
   ],
   "source": [
    "data.term.unique()"
   ]
  },
  {
   "cell_type": "code",
   "execution_count": 68,
   "id": "b9a04988",
   "metadata": {
    "execution": {
     "iopub.execute_input": "2023-01-31T14:13:00.563186Z",
     "iopub.status.busy": "2023-01-31T14:13:00.562474Z",
     "iopub.status.idle": "2023-01-31T14:13:00.639156Z",
     "shell.execute_reply": "2023-01-31T14:13:00.638136Z"
    },
    "papermill": {
     "duration": 0.236028,
     "end_time": "2023-01-31T14:13:00.641761",
     "exception": false,
     "start_time": "2023-01-31T14:13:00.405733",
     "status": "completed"
    },
    "tags": []
   },
   "outputs": [],
   "source": [
    "term_values = {' 36 months': 36, ' 60 months': 60}\n",
    "data['term'] = data.term.map(term_values)"
   ]
  },
  {
   "cell_type": "code",
   "execution_count": 69,
   "id": "49aece5a",
   "metadata": {
    "execution": {
     "iopub.execute_input": "2023-01-31T14:13:00.954842Z",
     "iopub.status.busy": "2023-01-31T14:13:00.953804Z",
     "iopub.status.idle": "2023-01-31T14:13:00.962843Z",
     "shell.execute_reply": "2023-01-31T14:13:00.961854Z"
    },
    "papermill": {
     "duration": 0.167665,
     "end_time": "2023-01-31T14:13:00.964868",
     "exception": false,
     "start_time": "2023-01-31T14:13:00.797203",
     "status": "completed"
    },
    "tags": []
   },
   "outputs": [
    {
     "data": {
      "text/plain": [
       "array([36, 60])"
      ]
     },
     "execution_count": 69,
     "metadata": {},
     "output_type": "execute_result"
    }
   ],
   "source": [
    "data.term.unique()"
   ]
  },
  {
   "cell_type": "markdown",
   "id": "de3a0265",
   "metadata": {
    "papermill": {
     "duration": 0.15528,
     "end_time": "2023-01-31T14:13:01.277139",
     "exception": false,
     "start_time": "2023-01-31T14:13:01.121859",
     "status": "completed"
    },
    "tags": []
   },
   "source": [
    "### `grade` & `sub_grade`\n",
    "\n",
    "We know that `grade` is just a sub feature of `sub_grade`, So we are goinig to drop it."
   ]
  },
  {
   "cell_type": "code",
   "execution_count": 70,
   "id": "ad383419",
   "metadata": {
    "execution": {
     "iopub.execute_input": "2023-01-31T14:13:01.592535Z",
     "iopub.status.busy": "2023-01-31T14:13:01.591599Z",
     "iopub.status.idle": "2023-01-31T14:13:01.656733Z",
     "shell.execute_reply": "2023-01-31T14:13:01.655753Z"
    },
    "papermill": {
     "duration": 0.225278,
     "end_time": "2023-01-31T14:13:01.659576",
     "exception": false,
     "start_time": "2023-01-31T14:13:01.434298",
     "status": "completed"
    },
    "tags": []
   },
   "outputs": [],
   "source": [
    "data.drop('grade', axis=1, inplace=True)"
   ]
  },
  {
   "cell_type": "code",
   "execution_count": 71,
   "id": "2439e9cb",
   "metadata": {
    "execution": {
     "iopub.execute_input": "2023-01-31T14:13:01.975911Z",
     "iopub.status.busy": "2023-01-31T14:13:01.975534Z",
     "iopub.status.idle": "2023-01-31T14:13:02.318893Z",
     "shell.execute_reply": "2023-01-31T14:13:02.317872Z"
    },
    "papermill": {
     "duration": 0.50391,
     "end_time": "2023-01-31T14:13:02.321337",
     "exception": false,
     "start_time": "2023-01-31T14:13:01.817427",
     "status": "completed"
    },
    "tags": []
   },
   "outputs": [],
   "source": [
    "dummies = ['sub_grade', 'verification_status', 'purpose', 'initial_list_status', \n",
    "           'application_type', 'home_ownership']\n",
    "data = pd.get_dummies(data, columns=dummies, drop_first=True)"
   ]
  },
  {
   "cell_type": "markdown",
   "id": "b78ba175",
   "metadata": {
    "papermill": {
     "duration": 0.162961,
     "end_time": "2023-01-31T14:13:02.654421",
     "exception": false,
     "start_time": "2023-01-31T14:13:02.491460",
     "status": "completed"
    },
    "tags": []
   },
   "source": [
    "### `address`\n",
    "We are going to feature engineer a zip code column from the address in the data set. Create a column called 'zip_code' that extracts the zip code from the address column."
   ]
  },
  {
   "cell_type": "code",
   "execution_count": 72,
   "id": "e9b015fc",
   "metadata": {
    "execution": {
     "iopub.execute_input": "2023-01-31T14:13:03.111792Z",
     "iopub.status.busy": "2023-01-31T14:13:03.111236Z",
     "iopub.status.idle": "2023-01-31T14:13:03.119932Z",
     "shell.execute_reply": "2023-01-31T14:13:03.118991Z"
    },
    "papermill": {
     "duration": 0.177794,
     "end_time": "2023-01-31T14:13:03.121926",
     "exception": false,
     "start_time": "2023-01-31T14:13:02.944132",
     "status": "completed"
    },
    "tags": []
   },
   "outputs": [
    {
     "data": {
      "text/plain": [
       "0       0174 Michelle Gateway\\r\\nMendozaberg, OK 22690\n",
       "1    1076 Carney Fort Apt. 347\\r\\nLoganmouth, SD 05113\n",
       "2    87025 Mark Dale Apt. 269\\r\\nNew Sabrina, WV 05113\n",
       "3              823 Reid Ford\\r\\nDelacruzside, MA 00813\n",
       "4               679 Luna Roads\\r\\nGreggshire, VA 11650\n",
       "Name: address, dtype: object"
      ]
     },
     "execution_count": 72,
     "metadata": {},
     "output_type": "execute_result"
    }
   ],
   "source": [
    "data.address.head()"
   ]
  },
  {
   "cell_type": "code",
   "execution_count": 73,
   "id": "3cc3188b",
   "metadata": {
    "execution": {
     "iopub.execute_input": "2023-01-31T14:13:03.458992Z",
     "iopub.status.busy": "2023-01-31T14:13:03.458459Z",
     "iopub.status.idle": "2023-01-31T14:13:03.641611Z",
     "shell.execute_reply": "2023-01-31T14:13:03.628414Z"
    },
    "papermill": {
     "duration": 0.362285,
     "end_time": "2023-01-31T14:13:03.644153",
     "exception": false,
     "start_time": "2023-01-31T14:13:03.281868",
     "status": "completed"
    },
    "tags": []
   },
   "outputs": [],
   "source": [
    "data['zip_code'] = data.address.apply(lambda x: x[-5:])"
   ]
  },
  {
   "cell_type": "code",
   "execution_count": 74,
   "id": "8a04d628",
   "metadata": {
    "execution": {
     "iopub.execute_input": "2023-01-31T14:13:04.068331Z",
     "iopub.status.busy": "2023-01-31T14:13:04.067955Z",
     "iopub.status.idle": "2023-01-31T14:13:04.103983Z",
     "shell.execute_reply": "2023-01-31T14:13:04.102946Z"
    },
    "papermill": {
     "duration": 0.238062,
     "end_time": "2023-01-31T14:13:04.105979",
     "exception": false,
     "start_time": "2023-01-31T14:13:03.867917",
     "status": "completed"
    },
    "tags": []
   },
   "outputs": [
    {
     "data": {
      "text/plain": [
       "zip_code\n",
       "70466    56880\n",
       "22690    56413\n",
       "30723    56402\n",
       "48052    55811\n",
       "00813    45725\n",
       "29597    45393\n",
       "05113    45300\n",
       "11650    11210\n",
       "93700    11126\n",
       "86630    10959\n",
       "Name: count, dtype: int64"
      ]
     },
     "execution_count": 74,
     "metadata": {},
     "output_type": "execute_result"
    }
   ],
   "source": [
    "data.zip_code.value_counts()"
   ]
  },
  {
   "cell_type": "code",
   "execution_count": 75,
   "id": "dee694da",
   "metadata": {
    "execution": {
     "iopub.execute_input": "2023-01-31T14:13:04.419130Z",
     "iopub.status.busy": "2023-01-31T14:13:04.418140Z",
     "iopub.status.idle": "2023-01-31T14:13:04.601909Z",
     "shell.execute_reply": "2023-01-31T14:13:04.600917Z"
    },
    "papermill": {
     "duration": 0.34409,
     "end_time": "2023-01-31T14:13:04.604810",
     "exception": false,
     "start_time": "2023-01-31T14:13:04.260720",
     "status": "completed"
    },
    "tags": []
   },
   "outputs": [],
   "source": [
    "data = pd.get_dummies(data, columns=['zip_code'], drop_first=True)"
   ]
  },
  {
   "cell_type": "code",
   "execution_count": 76,
   "id": "dafe46bf",
   "metadata": {
    "execution": {
     "iopub.execute_input": "2023-01-31T14:13:04.919809Z",
     "iopub.status.busy": "2023-01-31T14:13:04.919417Z",
     "iopub.status.idle": "2023-01-31T14:13:04.986378Z",
     "shell.execute_reply": "2023-01-31T14:13:04.985236Z"
    },
    "papermill": {
     "duration": 0.226129,
     "end_time": "2023-01-31T14:13:04.989199",
     "exception": false,
     "start_time": "2023-01-31T14:13:04.763070",
     "status": "completed"
    },
    "tags": []
   },
   "outputs": [],
   "source": [
    "data.drop('address', axis=1, inplace=True)"
   ]
  },
  {
   "cell_type": "markdown",
   "id": "3be6a8ab",
   "metadata": {
    "papermill": {
     "duration": 0.155658,
     "end_time": "2023-01-31T14:13:05.300426",
     "exception": false,
     "start_time": "2023-01-31T14:13:05.144768",
     "status": "completed"
    },
    "tags": []
   },
   "source": [
    "### `issue_d` \n",
    "\n",
    "This would be data leakage, we wouldn't know beforehand whether or not a loan would be issued when using our model, so in theory we wouldn't have an issue_date, drop this feature."
   ]
  },
  {
   "cell_type": "code",
   "execution_count": 77,
   "id": "65dc25e2",
   "metadata": {
    "execution": {
     "iopub.execute_input": "2023-01-31T14:13:05.616027Z",
     "iopub.status.busy": "2023-01-31T14:13:05.614099Z",
     "iopub.status.idle": "2023-01-31T14:13:05.643808Z",
     "shell.execute_reply": "2023-01-31T14:13:05.642851Z"
    },
    "papermill": {
     "duration": 0.190885,
     "end_time": "2023-01-31T14:13:05.645959",
     "exception": false,
     "start_time": "2023-01-31T14:13:05.455074",
     "status": "completed"
    },
    "tags": []
   },
   "outputs": [],
   "source": [
    "data.drop('issue_d', axis=1, inplace=True)"
   ]
  },
  {
   "cell_type": "markdown",
   "id": "3af9fbb5",
   "metadata": {
    "papermill": {
     "duration": 0.158483,
     "end_time": "2023-01-31T14:13:05.959651",
     "exception": false,
     "start_time": "2023-01-31T14:13:05.801168",
     "status": "completed"
    },
    "tags": []
   },
   "source": [
    "### `earliest_cr_line`\n",
    "This appears to be a historical time stamp feature. Extract the year from this feature using a `.apply()` function, then convert it to a numeric feature."
   ]
  },
  {
   "cell_type": "code",
   "execution_count": 78,
   "id": "9e8e8d21",
   "metadata": {
    "execution": {
     "iopub.execute_input": "2023-01-31T14:13:06.287247Z",
     "iopub.status.busy": "2023-01-31T14:13:06.286161Z",
     "iopub.status.idle": "2023-01-31T14:13:06.337535Z",
     "shell.execute_reply": "2023-01-31T14:13:06.336363Z"
    },
    "papermill": {
     "duration": 0.221956,
     "end_time": "2023-01-31T14:13:06.339961",
     "exception": false,
     "start_time": "2023-01-31T14:13:06.118005",
     "status": "completed"
    },
    "tags": []
   },
   "outputs": [
    {
     "name": "stderr",
     "output_type": "stream",
     "text": [
      "C:\\Users\\rajee\\AppData\\Local\\Temp\\ipykernel_27540\\1498918713.py:1: UserWarning: Could not infer format, so each element will be parsed individually, falling back to `dateutil`. To ensure parsing is consistent and as-expected, please specify a format.\n",
      "  data['earliest_cr_line'] = pd.to_datetime(data['earliest_cr_line']).dt.year\n"
     ]
    }
   ],
   "source": [
    "data['earliest_cr_line'] = pd.to_datetime(data['earliest_cr_line']).dt.year"
   ]
  },
  {
   "cell_type": "code",
   "execution_count": 79,
   "id": "5e5f8b62",
   "metadata": {
    "execution": {
     "iopub.execute_input": "2023-01-31T14:13:06.691630Z",
     "iopub.status.busy": "2023-01-31T14:13:06.690444Z",
     "iopub.status.idle": "2023-01-31T14:13:06.700404Z",
     "shell.execute_reply": "2023-01-31T14:13:06.699300Z"
    },
    "papermill": {
     "duration": 0.185163,
     "end_time": "2023-01-31T14:13:06.702523",
     "exception": false,
     "start_time": "2023-01-31T14:13:06.517360",
     "status": "completed"
    },
    "tags": []
   },
   "outputs": [
    {
     "data": {
      "text/plain": [
       "65"
      ]
     },
     "execution_count": 79,
     "metadata": {},
     "output_type": "execute_result"
    }
   ],
   "source": [
    "data.earliest_cr_line.nunique()"
   ]
  },
  {
   "cell_type": "code",
   "execution_count": 80,
   "id": "9a75d83a",
   "metadata": {
    "execution": {
     "iopub.execute_input": "2023-01-31T14:13:07.028013Z",
     "iopub.status.busy": "2023-01-31T14:13:07.027647Z",
     "iopub.status.idle": "2023-01-31T14:13:07.039637Z",
     "shell.execute_reply": "2023-01-31T14:13:07.038684Z"
    },
    "papermill": {
     "duration": 0.178651,
     "end_time": "2023-01-31T14:13:07.041641",
     "exception": false,
     "start_time": "2023-01-31T14:13:06.862990",
     "status": "completed"
    },
    "tags": []
   },
   "outputs": [
    {
     "data": {
      "text/plain": [
       "earliest_cr_line\n",
       "2000    29302\n",
       "2001    29031\n",
       "1999    26444\n",
       "2002    25849\n",
       "2003    23623\n",
       "        ...  \n",
       "1950        3\n",
       "1951        3\n",
       "1953        2\n",
       "1944        1\n",
       "1948        1\n",
       "Name: count, Length: 65, dtype: int64"
      ]
     },
     "execution_count": 80,
     "metadata": {},
     "output_type": "execute_result"
    }
   ],
   "source": [
    "data.earliest_cr_line.value_counts()"
   ]
  },
  {
   "cell_type": "code",
   "execution_count": 81,
   "id": "06c381a5",
   "metadata": {
    "execution": {
     "iopub.execute_input": "2023-01-31T14:13:07.355470Z",
     "iopub.status.busy": "2023-01-31T14:13:07.355114Z",
     "iopub.status.idle": "2023-01-31T14:13:07.360813Z",
     "shell.execute_reply": "2023-01-31T14:13:07.359971Z"
    },
    "papermill": {
     "duration": 0.163824,
     "end_time": "2023-01-31T14:13:07.362721",
     "exception": false,
     "start_time": "2023-01-31T14:13:07.198897",
     "status": "completed"
    },
    "tags": []
   },
   "outputs": [],
   "source": [
    "# data.drop('earliest_cr_line', axis=1, inplace=True)"
   ]
  },
  {
   "cell_type": "markdown",
   "id": "2cc1f4d7",
   "metadata": {
    "papermill": {
     "duration": 0.161963,
     "end_time": "2023-01-31T14:13:07.684595",
     "exception": false,
     "start_time": "2023-01-31T14:13:07.522632",
     "status": "completed"
    },
    "tags": []
   },
   "source": [
    "## 🔖 Check for duplicates columns & features"
   ]
  },
  {
   "cell_type": "code",
   "execution_count": 82,
   "id": "3a86ab0a",
   "metadata": {
    "execution": {
     "iopub.execute_input": "2023-01-31T14:13:08.151020Z",
     "iopub.status.busy": "2023-01-31T14:13:08.150641Z",
     "iopub.status.idle": "2023-01-31T14:13:08.154911Z",
     "shell.execute_reply": "2023-01-31T14:13:08.153922Z"
    },
    "papermill": {
     "duration": 0.309774,
     "end_time": "2023-01-31T14:13:08.156885",
     "exception": false,
     "start_time": "2023-01-31T14:13:07.847111",
     "status": "completed"
    },
    "tags": []
   },
   "outputs": [
    {
     "name": "stdout",
     "output_type": "stream",
     "text": [
      "Data shape: (395219, 81)\n",
      "Data shape: (395219, 81)\n",
      "Data shape: (395219, 81)\n"
     ]
    }
   ],
   "source": [
    "print(f\"Data shape: {data.shape}\")\n",
    "\n",
    "# Remove duplicate Features\n",
    "data = data.T.drop_duplicates()\n",
    "data = data.T\n",
    "\n",
    "# Remove Duplicate Rows\n",
    "data.drop_duplicates(inplace=True)\n",
    "\n",
    "print(f\"Data shape: {data.shape}\")"
   ]
  },
  {
   "cell_type": "markdown",
   "id": "9cc9538f",
   "metadata": {
    "papermill": {
     "duration": 0.15725,
     "end_time": "2023-01-31T14:13:08.474044",
     "exception": false,
     "start_time": "2023-01-31T14:13:08.316794",
     "status": "completed"
    },
    "tags": []
   },
   "source": [
    "## 🔪 Train Test Split"
   ]
  },
  {
   "cell_type": "code",
   "execution_count": 83,
   "id": "2147d4fb",
   "metadata": {
    "execution": {
     "iopub.execute_input": "2023-01-31T14:13:08.795018Z",
     "iopub.status.busy": "2023-01-31T14:13:08.792894Z",
     "iopub.status.idle": "2023-01-31T14:13:08.810410Z",
     "shell.execute_reply": "2023-01-31T14:13:08.809154Z"
    },
    "papermill": {
     "duration": 0.182374,
     "end_time": "2023-01-31T14:13:08.812617",
     "exception": false,
     "start_time": "2023-01-31T14:13:08.630243",
     "status": "completed"
    },
    "tags": []
   },
   "outputs": [
    {
     "name": "stdout",
     "output_type": "stream",
     "text": [
      "Weight of positive values 0.8038479931379817\n",
      "Weight of negative values 0.19615200686201828\n"
     ]
    },
    {
     "name": "stderr",
     "output_type": "stream",
     "text": [
      "C:\\Users\\rajee\\AppData\\Local\\Temp\\ipykernel_27540\\2598508790.py:1: FutureWarning: Series.__getitem__ treating keys as positions is deprecated. In a future version, integer keys will always be treated as labels (consistent with DataFrame behavior). To access a value by position, use `ser.iloc[pos]`\n",
      "  w_p = data.loan_status.value_counts()[0] / data.shape[0]\n",
      "C:\\Users\\rajee\\AppData\\Local\\Temp\\ipykernel_27540\\2598508790.py:2: FutureWarning: Series.__getitem__ treating keys as positions is deprecated. In a future version, integer keys will always be treated as labels (consistent with DataFrame behavior). To access a value by position, use `ser.iloc[pos]`\n",
      "  w_n = data.loan_status.value_counts()[1] / data.shape[0]\n"
     ]
    }
   ],
   "source": [
    "w_p = data.loan_status.value_counts()[0] / data.shape[0]\n",
    "w_n = data.loan_status.value_counts()[1] / data.shape[0]\n",
    "\n",
    "print(f\"Weight of positive values {w_p}\")\n",
    "print(f\"Weight of negative values {w_n}\")"
   ]
  },
  {
   "cell_type": "code",
   "execution_count": 84,
   "id": "b7e7224a",
   "metadata": {
    "execution": {
     "iopub.execute_input": "2023-01-31T14:13:09.151321Z",
     "iopub.status.busy": "2023-01-31T14:13:09.150947Z",
     "iopub.status.idle": "2023-01-31T14:13:09.390120Z",
     "shell.execute_reply": "2023-01-31T14:13:09.388558Z"
    },
    "papermill": {
     "duration": 0.398176,
     "end_time": "2023-01-31T14:13:09.393102",
     "exception": false,
     "start_time": "2023-01-31T14:13:08.994926",
     "status": "completed"
    },
    "tags": []
   },
   "outputs": [
    {
     "name": "stdout",
     "output_type": "stream",
     "text": [
      "(264796, 81)\n",
      "(130423, 81)\n"
     ]
    }
   ],
   "source": [
    "train, test = train_test_split(data, test_size=0.33, random_state=42)\n",
    "\n",
    "print(train.shape)\n",
    "print(test.shape)"
   ]
  },
  {
   "cell_type": "markdown",
   "id": "a0efbd91",
   "metadata": {
    "papermill": {
     "duration": 0.156773,
     "end_time": "2023-01-31T14:13:09.705705",
     "exception": false,
     "start_time": "2023-01-31T14:13:09.548932",
     "status": "completed"
    },
    "tags": []
   },
   "source": [
    "# Removing Outliers"
   ]
  },
  {
   "cell_type": "code",
   "execution_count": 85,
   "id": "57438231",
   "metadata": {
    "execution": {
     "iopub.execute_input": "2023-01-31T14:13:10.034755Z",
     "iopub.status.busy": "2023-01-31T14:13:10.034383Z",
     "iopub.status.idle": "2023-01-31T14:13:10.155052Z",
     "shell.execute_reply": "2023-01-31T14:13:10.153889Z"
    },
    "papermill": {
     "duration": 0.293119,
     "end_time": "2023-01-31T14:13:10.158071",
     "exception": false,
     "start_time": "2023-01-31T14:13:09.864952",
     "status": "completed"
    },
    "tags": []
   },
   "outputs": [
    {
     "name": "stdout",
     "output_type": "stream",
     "text": [
      "(264776, 81)\n",
      "(264796, 81)\n"
     ]
    }
   ],
   "source": [
    "print(train[train['dti'] <= 50].shape)\n",
    "print(train.shape)"
   ]
  },
  {
   "cell_type": "code",
   "execution_count": 86,
   "id": "fabd5d50",
   "metadata": {
    "execution": {
     "iopub.execute_input": "2023-01-31T14:13:10.475038Z",
     "iopub.status.busy": "2023-01-31T14:13:10.473784Z",
     "iopub.status.idle": "2023-01-31T14:13:11.100729Z",
     "shell.execute_reply": "2023-01-31T14:13:11.099575Z"
    },
    "papermill": {
     "duration": 0.788178,
     "end_time": "2023-01-31T14:13:11.103459",
     "exception": false,
     "start_time": "2023-01-31T14:13:10.315281",
     "status": "completed"
    },
    "tags": []
   },
   "outputs": [
    {
     "name": "stdout",
     "output_type": "stream",
     "text": [
      "(264796, 81)\n",
      "(262143, 81)\n",
      "(262143, 81)\n"
     ]
    }
   ],
   "source": [
    "print(train.shape)\n",
    "train = train[train['annual_inc'] <= 250000]\n",
    "train = train[train['dti'] <= 50]\n",
    "train = train[train['open_acc'] <= 40]\n",
    "train = train[train['total_acc'] <= 80]\n",
    "train = train[train['revol_util'] <= 120]\n",
    "train = train[train['revol_bal'] <= 250000]\n",
    "print(train.shape)"
   ]
  },
  {
   "cell_type": "markdown",
   "id": "9dde0a81",
   "metadata": {
    "papermill": {
     "duration": 0.158827,
     "end_time": "2023-01-31T14:13:11.421049",
     "exception": false,
     "start_time": "2023-01-31T14:13:11.262222",
     "status": "completed"
    },
    "tags": []
   },
   "source": [
    "## 📏 Normalizing the data"
   ]
  },
  {
   "cell_type": "code",
   "execution_count": 87,
   "id": "efcd9fb9",
   "metadata": {
    "execution": {
     "iopub.execute_input": "2023-01-31T14:13:11.736172Z",
     "iopub.status.busy": "2023-01-31T14:13:11.735814Z",
     "iopub.status.idle": "2023-01-31T14:13:11.791557Z",
     "shell.execute_reply": "2023-01-31T14:13:11.790554Z"
    },
    "papermill": {
     "duration": 0.216203,
     "end_time": "2023-01-31T14:13:11.794054",
     "exception": false,
     "start_time": "2023-01-31T14:13:11.577851",
     "status": "completed"
    },
    "tags": []
   },
   "outputs": [],
   "source": [
    "X_train, y_train = train.drop('loan_status', axis=1), train.loan_status\n",
    "X_test, y_test = test.drop('loan_status', axis=1), test.loan_status"
   ]
  },
  {
   "cell_type": "code",
   "execution_count": 88,
   "id": "b952968a",
   "metadata": {
    "execution": {
     "iopub.execute_input": "2023-01-31T14:13:12.110477Z",
     "iopub.status.busy": "2023-01-31T14:13:12.110103Z",
     "iopub.status.idle": "2023-01-31T14:13:12.118945Z",
     "shell.execute_reply": "2023-01-31T14:13:12.117924Z"
    },
    "papermill": {
     "duration": 0.169964,
     "end_time": "2023-01-31T14:13:12.121048",
     "exception": false,
     "start_time": "2023-01-31T14:13:11.951084",
     "status": "completed"
    },
    "tags": []
   },
   "outputs": [
    {
     "data": {
      "text/plain": [
       "loan_amnt         object\n",
       "term              object\n",
       "int_rate          object\n",
       "installment       object\n",
       "annual_inc        object\n",
       "                   ...  \n",
       "zip_code_30723    object\n",
       "zip_code_48052    object\n",
       "zip_code_70466    object\n",
       "zip_code_86630    object\n",
       "zip_code_93700    object\n",
       "Length: 80, dtype: object"
      ]
     },
     "execution_count": 88,
     "metadata": {},
     "output_type": "execute_result"
    }
   ],
   "source": [
    "X_train.dtypes"
   ]
  },
  {
   "cell_type": "code",
   "execution_count": 89,
   "id": "39d07e9c",
   "metadata": {
    "execution": {
     "iopub.execute_input": "2023-01-31T14:13:12.452281Z",
     "iopub.status.busy": "2023-01-31T14:13:12.451489Z",
     "iopub.status.idle": "2023-01-31T14:13:12.757747Z",
     "shell.execute_reply": "2023-01-31T14:13:12.756743Z"
    },
    "papermill": {
     "duration": 0.483212,
     "end_time": "2023-01-31T14:13:12.760285",
     "exception": false,
     "start_time": "2023-01-31T14:13:12.277073",
     "status": "completed"
    },
    "tags": []
   },
   "outputs": [],
   "source": [
    "scaler = MinMaxScaler()\n",
    "X_train = scaler.fit_transform(X_train)\n",
    "X_test = scaler.transform(X_test)"
   ]
  },
  {
   "cell_type": "markdown",
   "id": "64ddcb0d",
   "metadata": {
    "papermill": {
     "duration": 0.162943,
     "end_time": "2023-01-31T14:13:13.083170",
     "exception": false,
     "start_time": "2023-01-31T14:13:12.920227",
     "status": "completed"
    },
    "tags": []
   },
   "source": [
    "# 🤖 Models Building"
   ]
  },
  {
   "cell_type": "code",
   "execution_count": 90,
   "id": "47a8291a",
   "metadata": {
    "execution": {
     "iopub.execute_input": "2023-01-31T14:13:13.702918Z",
     "iopub.status.busy": "2023-01-31T14:13:13.702551Z",
     "iopub.status.idle": "2023-01-31T14:13:13.709718Z",
     "shell.execute_reply": "2023-01-31T14:13:13.708705Z"
    },
    "papermill": {
     "duration": 0.176326,
     "end_time": "2023-01-31T14:13:13.711748",
     "exception": false,
     "start_time": "2023-01-31T14:13:13.535422",
     "status": "completed"
    },
    "tags": []
   },
   "outputs": [],
   "source": [
    "def print_score(true, pred, train=True):\n",
    "    if train:\n",
    "        clf_report = pd.DataFrame(classification_report(true, pred, output_dict=True))\n",
    "        print(\"Train Result:\\n================================================\")\n",
    "        print(f\"Accuracy Score: {accuracy_score(true, pred) * 100:.2f}%\")\n",
    "        print(\"_______________________________________________\")\n",
    "        print(f\"CLASSIFICATION REPORT:\\n{clf_report}\")\n",
    "        print(\"_______________________________________________\")\n",
    "        print(f\"Confusion Matrix: \\n {confusion_matrix(true, pred)}\\n\")\n",
    "        \n",
    "    elif train==False:\n",
    "        clf_report = pd.DataFrame(classification_report(true, pred, output_dict=True))\n",
    "        print(\"Test Result:\\n================================================\")        \n",
    "        print(f\"Accuracy Score: {accuracy_score(true, pred) * 100:.2f}%\")\n",
    "        print(\"_______________________________________________\")\n",
    "        print(f\"CLASSIFICATION REPORT:\\n{clf_report}\")\n",
    "        print(\"_______________________________________________\")\n",
    "        print(f\"Confusion Matrix: \\n {confusion_matrix(true, pred)}\\n\")"
   ]
  },
  {
   "cell_type": "code",
   "execution_count": 91,
   "id": "c5496fff",
   "metadata": {
    "execution": {
     "iopub.execute_input": "2023-01-31T14:13:14.033190Z",
     "iopub.status.busy": "2023-01-31T14:13:14.032464Z",
     "iopub.status.idle": "2023-01-31T14:13:14.175279Z",
     "shell.execute_reply": "2023-01-31T14:13:14.174240Z"
    },
    "papermill": {
     "duration": 0.308458,
     "end_time": "2023-01-31T14:13:14.177882",
     "exception": false,
     "start_time": "2023-01-31T14:13:13.869424",
     "status": "completed"
    },
    "tags": []
   },
   "outputs": [],
   "source": [
    "# First encode the target labels to numeric values\n",
    "# 'Fully Paid' = 0, 'Charged Off' = 1\n",
    "y_train_encoded = (y_train == 'Charged Off').astype(int)\n",
    "y_test_encoded = (y_test == 'Charged Off').astype(int)\n",
    "\n",
    "# Convert to float32 arrays\n",
    "X_train = np.array(X_train).astype(np.float32)\n",
    "X_test = np.array(X_test).astype(np.float32)\n",
    "y_train = np.array(y_train_encoded).astype(np.float32)\n",
    "y_test = np.array(y_test_encoded).astype(np.float32)"
   ]
  },
  {
   "cell_type": "markdown",
   "id": "181bc15a",
   "metadata": {
    "papermill": {
     "duration": 0.210638,
     "end_time": "2023-01-31T14:13:14.544154",
     "exception": false,
     "start_time": "2023-01-31T14:13:14.333516",
     "status": "completed"
    },
    "tags": []
   },
   "source": [
    "# ✔️ Artificial Neural Networks (ANNs)"
   ]
  },
  {
   "cell_type": "code",
   "execution_count": 92,
   "id": "352a2656",
   "metadata": {
    "execution": {
     "iopub.execute_input": "2023-01-31T14:13:15.007835Z",
     "iopub.status.busy": "2023-01-31T14:13:15.007404Z",
     "iopub.status.idle": "2023-01-31T14:13:15.022245Z",
     "shell.execute_reply": "2023-01-31T14:13:15.021309Z"
    },
    "papermill": {
     "duration": 0.249261,
     "end_time": "2023-01-31T14:13:15.024564",
     "exception": false,
     "start_time": "2023-01-31T14:13:14.775303",
     "status": "completed"
    },
    "tags": []
   },
   "outputs": [],
   "source": [
    "def evaluate_nn(true, pred, train=True):\n",
    "    if train:\n",
    "        clf_report = pd.DataFrame(classification_report(true, pred, output_dict=True))\n",
    "        print(\"Train Result:\\n================================================\")\n",
    "        print(f\"Accuracy Score: {accuracy_score(true, pred) * 100:.2f}%\")\n",
    "        print(\"_______________________________________________\")\n",
    "        print(f\"CLASSIFICATION REPORT:\\n{clf_report}\")\n",
    "        print(\"_______________________________________________\")\n",
    "        print(f\"Confusion Matrix: \\n {confusion_matrix(true, pred)}\\n\")\n",
    "        \n",
    "    elif train==False:\n",
    "        clf_report = pd.DataFrame(classification_report(true, pred, output_dict=True))\n",
    "        print(\"Test Result:\\n================================================\")        \n",
    "        print(f\"Accuracy Score: {accuracy_score(true, pred) * 100:.2f}%\")\n",
    "        print(\"_______________________________________________\")\n",
    "        print(f\"CLASSIFICATION REPORT:\\n{clf_report}\")\n",
    "        print(\"_______________________________________________\")\n",
    "        print(f\"Confusion Matrix: \\n {confusion_matrix(true, pred)}\\n\")\n",
    "\n",
    "def plot_learning_evolution(clf):\n",
    "    print(\"📊 Loss curves not available with scikit-learn MLPClassifier\")\n",
    "    print(\"📈 Training completed successfully!\")\n",
    "    \n",
    "def create_sklearn_nn(hidden_layer_sizes=(150, 150, 150), learning_rate=0.001, max_iter=200):\n",
    "    \"\"\"Create sklearn MLPClassifier neural network\"\"\"\n",
    "    return MLPClassifier(\n",
    "        hidden_layer_sizes=hidden_layer_sizes,\n",
    "        learning_rate_init=learning_rate,\n",
    "        max_iter=max_iter,\n",
    "        random_state=42,\n",
    "        early_stopping=True,\n",
    "        validation_fraction=0.1,\n",
    "        n_iter_no_change=10\n",
    "    )"
   ]
  },
  {
   "cell_type": "code",
   "execution_count": 93,
   "id": "48c81c29",
   "metadata": {
    "_kg_hide-output": true,
    "execution": {
     "iopub.execute_input": "2023-01-31T14:13:15.346693Z",
     "iopub.status.busy": "2023-01-31T14:13:15.345817Z",
     "iopub.status.idle": "2023-01-31T14:30:28.284730Z",
     "shell.execute_reply": "2023-01-31T14:30:28.283732Z"
    },
    "papermill": {
     "duration": 1033.100957,
     "end_time": "2023-01-31T14:30:28.286962",
     "exception": false,
     "start_time": "2023-01-31T14:13:15.186005",
     "status": "completed"
    },
    "tags": []
   },
   "outputs": [
    {
     "name": "stdout",
     "output_type": "stream",
     "text": [
      "🚀 Training with scikit-learn MLPClassifier...\n",
      "✅ Model training completed!\n",
      "✅ Model training completed!\n"
     ]
    }
   ],
   "source": [
    "# Scikit-learn Neural Network Training\n",
    "print(\"🚀 Training with scikit-learn MLPClassifier...\")\n",
    "\n",
    "# Ensure we have the training data (in case the previous cells weren't run)\n",
    "if 'X_train' not in locals() or 'y_train' not in locals():\n",
    "    print(\"Setting up training data...\")\n",
    "    X_train, y_train = train.drop('loan_status', axis=1), train.loan_status\n",
    "    X_test, y_test = test.drop('loan_status', axis=1), test.loan_status\n",
    "    \n",
    "    # Encode target labels\n",
    "    y_train_encoded = (y_train == 'Charged Off').astype(int)\n",
    "    y_test_encoded = (y_test == 'Charged Off').astype(int)\n",
    "    \n",
    "    # Scale the features\n",
    "    scaler = MinMaxScaler()\n",
    "    X_train = scaler.fit_transform(X_train)\n",
    "    X_test = scaler.transform(X_test)\n",
    "    \n",
    "    # Convert to numpy arrays\n",
    "    X_train = np.array(X_train).astype(np.float32)\n",
    "    X_test = np.array(X_test).astype(np.float32)\n",
    "    y_train = np.array(y_train_encoded).astype(np.float32)\n",
    "    y_test = np.array(y_test_encoded).astype(np.float32)\n",
    "\n",
    "model = create_sklearn_nn(\n",
    "    hidden_layer_sizes=(150, 150, 150),\n",
    "    learning_rate=0.001,\n",
    "    max_iter=200\n",
    ")\n",
    "\n",
    "# Fit the model\n",
    "model.fit(X_train, y_train)\n",
    "print(\"✅ Model training completed!\")\n",
    "\n",
    "# Create a dummy r object for compatibility\n",
    "class DummyHistory:\n",
    "    def __init__(self):\n",
    "        pass\n",
    "r = DummyHistory()"
   ]
  },
  {
   "cell_type": "code",
   "execution_count": 94,
   "id": "f69c05d9",
   "metadata": {
    "execution": {
     "iopub.execute_input": "2023-01-31T14:30:30.623791Z",
     "iopub.status.busy": "2023-01-31T14:30:30.623413Z",
     "iopub.status.idle": "2023-01-31T14:30:30.935397Z",
     "shell.execute_reply": "2023-01-31T14:30:30.934469Z"
    },
    "papermill": {
     "duration": 1.379851,
     "end_time": "2023-01-31T14:30:30.937649",
     "exception": false,
     "start_time": "2023-01-31T14:30:29.557798",
     "status": "completed"
    },
    "tags": []
   },
   "outputs": [
    {
     "name": "stdout",
     "output_type": "stream",
     "text": [
      "Train Result:\n",
      "================================================\n",
      "Accuracy Score: 88.93%\n",
      "_______________________________________________\n",
      "CLASSIFICATION REPORT:\n",
      "                0.0      1.0  accuracy  macro avg  weighted avg\n",
      "precision      0.88     0.97      0.89       0.93          0.90\n",
      "recall         1.00     0.45      0.89       0.72          0.89\n",
      "f1-score       0.94     0.62      0.89       0.78          0.87\n",
      "support   210478.00 51665.00      0.89  262143.00     262143.00\n",
      "_______________________________________________\n",
      "Confusion Matrix: \n",
      " [[209820    658]\n",
      " [ 28355  23310]]\n",
      "\n"
     ]
    }
   ],
   "source": [
    "# Make predictions on training data\n",
    "y_train_pred = model.predict(X_train)\n",
    "evaluate_nn(y_train, y_train_pred, train=True)"
   ]
  },
  {
   "cell_type": "code",
   "execution_count": 95,
   "id": "9dc134ee",
   "metadata": {
    "execution": {
     "iopub.execute_input": "2023-01-31T14:30:33.014813Z",
     "iopub.status.busy": "2023-01-31T14:30:33.014432Z",
     "iopub.status.idle": "2023-01-31T14:30:44.349045Z",
     "shell.execute_reply": "2023-01-31T14:30:44.348071Z"
    },
    "papermill": {
     "duration": 12.408002,
     "end_time": "2023-01-31T14:30:44.351122",
     "exception": false,
     "start_time": "2023-01-31T14:30:31.943120",
     "status": "completed"
    },
    "tags": []
   },
   "outputs": [
    {
     "name": "stdout",
     "output_type": "stream",
     "text": [
      "Test Result:\n",
      "================================================\n",
      "Accuracy Score: 88.90%\n",
      "_______________________________________________\n",
      "CLASSIFICATION REPORT:\n",
      "                0.0      1.0  accuracy  macro avg  weighted avg\n",
      "precision      0.88     0.96      0.89       0.92          0.90\n",
      "recall         1.00     0.45      0.89       0.72          0.89\n",
      "f1-score       0.94     0.61      0.89       0.77          0.87\n",
      "support   104943.00 25480.00      0.89  130423.00     130423.00\n",
      "_______________________________________________\n",
      "Confusion Matrix: \n",
      " [[104528    415]\n",
      " [ 14067  11413]]\n",
      "\n"
     ]
    }
   ],
   "source": [
    "y_test_pred = model.predict(X_test)\n",
    "evaluate_nn(y_test, y_test_pred, train=False)"
   ]
  },
  {
   "cell_type": "code",
   "execution_count": 96,
   "id": "810bd61f",
   "metadata": {
    "execution": {
     "iopub.execute_input": "2023-01-31T14:30:46.410825Z",
     "iopub.status.busy": "2023-01-31T14:30:46.409936Z",
     "iopub.status.idle": "2023-01-31T14:30:51.558632Z",
     "shell.execute_reply": "2023-01-31T14:30:51.557479Z"
    },
    "papermill": {
     "duration": 6.154345,
     "end_time": "2023-01-31T14:30:51.560766",
     "exception": false,
     "start_time": "2023-01-31T14:30:45.406421",
     "status": "completed"
    },
    "tags": []
   },
   "outputs": [],
   "source": [
    "scores_dict = {\n",
    "    'ANNs': {\n",
    "        'Train': roc_auc_score(y_train, model.predict_proba(X_train)[:, 1]),\n",
    "        'Test': roc_auc_score(y_test, model.predict_proba(X_test)[:, 1]),\n",
    "    },\n",
    "}"
   ]
  },
  {
   "cell_type": "code",
   "execution_count": 97,
   "id": "6ee451f9",
   "metadata": {
    "execution": {
     "iopub.execute_input": "2023-01-31T14:30:53.707417Z",
     "iopub.status.busy": "2023-01-31T14:30:53.707056Z",
     "iopub.status.idle": "2023-01-31T14:31:06.223443Z",
     "shell.execute_reply": "2023-01-31T14:31:06.222480Z"
    },
    "papermill": {
     "duration": 13.590412,
     "end_time": "2023-01-31T14:31:06.225959",
     "exception": false,
     "start_time": "2023-01-31T14:30:52.635547",
     "status": "completed"
    },
    "tags": []
   },
   "outputs": [],
   "source": [
    "scores_dict = {\n",
    "    'ANNs': {\n",
    "        'Train': roc_auc_score(y_train, model.predict_proba(X_train)[:, 1]),\n",
    "        'Test': roc_auc_score(y_test, model.predict_proba(X_test)[:, 1]),\n",
    "    },\n",
    "}"
   ]
  },
  {
   "cell_type": "markdown",
   "id": "d4bf6059",
   "metadata": {
    "papermill": {
     "duration": 1.058827,
     "end_time": "2023-01-31T14:31:08.286458",
     "exception": false,
     "start_time": "2023-01-31T14:31:07.227631",
     "status": "completed"
    },
    "tags": []
   },
   "source": [
    "# ✔️ XGBoost Classifier"
   ]
  },
  {
   "cell_type": "code",
   "execution_count": 98,
   "id": "9fc90b6a",
   "metadata": {
    "execution": {
     "iopub.execute_input": "2023-01-31T14:31:10.369601Z",
     "iopub.status.busy": "2023-01-31T14:31:10.369225Z",
     "iopub.status.idle": "2023-01-31T14:32:37.117935Z",
     "shell.execute_reply": "2023-01-31T14:32:37.116573Z"
    },
    "papermill": {
     "duration": 87.763797,
     "end_time": "2023-01-31T14:32:37.120093",
     "exception": false,
     "start_time": "2023-01-31T14:31:09.356296",
     "status": "completed"
    },
    "tags": []
   },
   "outputs": [
    {
     "name": "stdout",
     "output_type": "stream",
     "text": [
      "Requirement already satisfied: xgboost in c:\\users\\rajee\\onedrive\\desktop\\shourya\\mlproj\\.venv\\lib\\site-packages (3.0.5)\n",
      "Requirement already satisfied: numpy in c:\\users\\rajee\\onedrive\\desktop\\shourya\\mlproj\\.venv\\lib\\site-packages (from xgboost) (2.3.3)\n",
      "Requirement already satisfied: scipy in c:\\users\\rajee\\onedrive\\desktop\\shourya\\mlproj\\.venv\\lib\\site-packages (from xgboost) (1.16.2)\n",
      "Note: you may need to restart the kernel to use updated packages.\n"
     ]
    },
    {
     "name": "stderr",
     "output_type": "stream",
     "text": [
      "c:\\Users\\rajee\\OneDrive\\Desktop\\Shourya\\MLproj\\.venv\\Lib\\site-packages\\xgboost\\training.py:183: UserWarning: [11:47:21] WARNING: C:\\actions-runner\\_work\\xgboost\\xgboost\\src\\learner.cc:738: \n",
      "Parameters: { \"use_label_encoder\" } are not used.\n",
      "\n",
      "  bst.update(dtrain, iteration=i, fobj=obj)\n"
     ]
    },
    {
     "name": "stdout",
     "output_type": "stream",
     "text": [
      "Train Result:\n",
      "================================================\n",
      "Accuracy Score: 89.63%\n",
      "_______________________________________________\n",
      "CLASSIFICATION REPORT:\n",
      "                0.0      1.0  accuracy  macro avg  weighted avg\n",
      "precision      0.89     0.94      0.90       0.92          0.90\n",
      "recall         0.99     0.50      0.90       0.75          0.90\n",
      "f1-score       0.94     0.66      0.90       0.80          0.88\n",
      "support   210478.00 51665.00      0.90  262143.00     262143.00\n",
      "_______________________________________________\n",
      "Confusion Matrix: \n",
      " [[208941   1537]\n",
      " [ 25652  26013]]\n",
      "\n",
      "Test Result:\n",
      "================================================\n",
      "Accuracy Score: 88.92%\n",
      "_______________________________________________\n",
      "CLASSIFICATION REPORT:\n",
      "                0.0      1.0  accuracy  macro avg  weighted avg\n",
      "precision      0.89     0.91      0.89       0.90          0.89\n",
      "recall         0.99     0.48      0.89       0.73          0.89\n",
      "f1-score       0.93     0.63      0.89       0.78          0.88\n",
      "support   104943.00 25480.00      0.89  130423.00     130423.00\n",
      "_______________________________________________\n",
      "Confusion Matrix: \n",
      " [[208941   1537]\n",
      " [ 25652  26013]]\n",
      "\n",
      "Test Result:\n",
      "================================================\n",
      "Accuracy Score: 88.92%\n",
      "_______________________________________________\n",
      "CLASSIFICATION REPORT:\n",
      "                0.0      1.0  accuracy  macro avg  weighted avg\n",
      "precision      0.89     0.91      0.89       0.90          0.89\n",
      "recall         0.99     0.48      0.89       0.73          0.89\n",
      "f1-score       0.93     0.63      0.89       0.78          0.88\n",
      "support   104943.00 25480.00      0.89  130423.00     130423.00\n",
      "_______________________________________________\n",
      "Confusion Matrix: \n",
      " [[103694   1249]\n",
      " [ 13202  12278]]\n",
      "\n",
      "Confusion Matrix: \n",
      " [[103694   1249]\n",
      " [ 13202  12278]]\n",
      "\n"
     ]
    }
   ],
   "source": [
    "%pip install xgboost\n",
    "from xgboost import XGBClassifier\n",
    "\n",
    "# param_grid = dict(\n",
    "#     n_estimators=stats.randint(10, 500),\n",
    "#     max_depth=stats.randint(1, 10),\n",
    "#     learning_rate=stats.uniform(0, 1)\n",
    "# )\n",
    "\n",
    "xgb_clf = XGBClassifier(use_label_encoder=False)\n",
    "# xgb_cv = RandomizedSearchCV(\n",
    "#     xgb_clf, param_grid, cv=3, n_iter=60, \n",
    "#     scoring='roc_auc', n_jobs=-1, verbose=1\n",
    "# )\n",
    "# xgb_cv.fit(X_train, y_train)\n",
    "\n",
    "# best_params = xgb_cv.best_params_\n",
    "# best_params['tree_method'] = 'gpu_hist'\n",
    "# # best_params = {'n_estimators': 50, 'tree_method': 'gpu_hist'}\n",
    "# print(f\"Best Parameters: {best_params}\")\n",
    "\n",
    "# xgb_clf = XGBClassifier(**best_params)\n",
    "xgb_clf.fit(X_train, y_train)\n",
    "\n",
    "y_train_pred = xgb_clf.predict(X_train)\n",
    "y_test_pred = xgb_clf.predict(X_test)\n",
    "\n",
    "print_score(y_train, y_train_pred, train=True)\n",
    "print_score(y_test, y_test_pred, train=False)"
   ]
  },
  {
   "cell_type": "code",
   "execution_count": 99,
   "id": "0221c340",
   "metadata": {
    "execution": {
     "iopub.execute_input": "2023-01-31T14:32:39.229358Z",
     "iopub.status.busy": "2023-01-31T14:32:39.229002Z",
     "iopub.status.idle": "2023-01-31T14:32:40.630885Z",
     "shell.execute_reply": "2023-01-31T14:32:40.629547Z"
    },
    "papermill": {
     "duration": 2.472623,
     "end_time": "2023-01-31T14:32:40.633694",
     "exception": false,
     "start_time": "2023-01-31T14:32:38.161071",
     "status": "completed"
    },
    "tags": []
   },
   "outputs": [
    {
     "data": {
      "image/png": "[encoded data removed]",
      "text/plain": [
       "<Figure size 640x480 with 2 Axes>"
      ]
     },
     "metadata": {},
     "output_type": "display_data"
    },
    {
     "data": {
      "image/png": "[encoded data removed]",
      "text/plain": [
       "<Figure size 640x480 with 1 Axes>"
      ]
     },
     "metadata": {},
     "output_type": "display_data"
    }
   ],
   "source": [
    "disp = ConfusionMatrixDisplay.from_estimator(\n",
    "    xgb_clf, X_test, y_test, \n",
    "    cmap='Blues', values_format='d', \n",
    "    display_labels=['Default', 'Fully-Paid']\n",
    ")\n",
    "\n",
    "disp = RocCurveDisplay.from_estimator(xgb_clf, X_test, y_test)"
   ]
  },
  {
   "cell_type": "code",
   "execution_count": 100,
   "id": "f7b32f37",
   "metadata": {
    "execution": {
     "iopub.execute_input": "2023-01-31T14:32:42.913366Z",
     "iopub.status.busy": "2023-01-31T14:32:42.912937Z",
     "iopub.status.idle": "2023-01-31T14:32:43.946160Z",
     "shell.execute_reply": "2023-01-31T14:32:43.945132Z"
    },
    "papermill": {
     "duration": 2.116751,
     "end_time": "2023-01-31T14:32:43.948843",
     "exception": false,
     "start_time": "2023-01-31T14:32:41.832092",
     "status": "completed"
    },
    "tags": []
   },
   "outputs": [],
   "source": [
    "scores_dict['XGBoost'] = {\n",
    "        'Train': roc_auc_score(y_train, xgb_clf.predict(X_train)),\n",
    "        'Test': roc_auc_score(y_test, xgb_clf.predict(X_test)),\n",
    "    }"
   ]
  },
  {
   "cell_type": "markdown",
   "id": "f206f18c",
   "metadata": {
    "papermill": {
     "duration": 1.053893,
     "end_time": "2023-01-31T14:32:46.014313",
     "exception": false,
     "start_time": "2023-01-31T14:32:44.960420",
     "status": "completed"
    },
    "tags": []
   },
   "source": [
    "# ✔️ Random Forest Classifier"
   ]
  },
  {
   "cell_type": "code",
   "execution_count": 101,
   "id": "2d0d5ba9",
   "metadata": {
    "execution": {
     "iopub.execute_input": "2023-01-31T14:32:48.092227Z",
     "iopub.status.busy": "2023-01-31T14:32:48.091864Z",
     "iopub.status.idle": "2023-01-31T14:34:13.275594Z",
     "shell.execute_reply": "2023-01-31T14:34:13.274577Z"
    },
    "papermill": {
     "duration": 86.834312,
     "end_time": "2023-01-31T14:34:13.912878",
     "exception": false,
     "start_time": "2023-01-31T14:32:47.078566",
     "status": "completed"
    },
    "tags": []
   },
   "outputs": [
    {
     "name": "stdout",
     "output_type": "stream",
     "text": [
      "Train Result:\n",
      "================================================\n",
      "Accuracy Score: 100.00%\n",
      "_______________________________________________\n",
      "CLASSIFICATION REPORT:\n",
      "                0.0      1.0  accuracy  macro avg  weighted avg\n",
      "precision      1.00     1.00      1.00       1.00          1.00\n",
      "recall         1.00     1.00      1.00       1.00          1.00\n",
      "f1-score       1.00     1.00      1.00       1.00          1.00\n",
      "support   210478.00 51665.00      1.00  262143.00     262143.00\n",
      "_______________________________________________\n",
      "Confusion Matrix: \n",
      " [[210478      0]\n",
      " [     5  51660]]\n",
      "\n",
      "Test Result:\n",
      "================================================\n",
      "Accuracy Score: 88.90%\n",
      "_______________________________________________\n",
      "CLASSIFICATION REPORT:\n",
      "                0.0      1.0  accuracy  macro avg  weighted avg\n",
      "precision      0.88     0.96      0.89       0.92          0.90\n",
      "recall         1.00     0.45      0.89       0.72          0.89\n",
      "f1-score       0.94     0.61      0.89       0.77          0.87\n",
      "support   104943.00 25480.00      0.89  130423.00     130423.00\n",
      "_______________________________________________\n",
      "Confusion Matrix: \n",
      " [[104460    483]\n",
      " [ 13998  11482]]\n",
      "\n",
      "Test Result:\n",
      "================================================\n",
      "Accuracy Score: 88.90%\n",
      "_______________________________________________\n",
      "CLASSIFICATION REPORT:\n",
      "                0.0      1.0  accuracy  macro avg  weighted avg\n",
      "precision      0.88     0.96      0.89       0.92          0.90\n",
      "recall         1.00     0.45      0.89       0.72          0.89\n",
      "f1-score       0.94     0.61      0.89       0.77          0.87\n",
      "support   104943.00 25480.00      0.89  130423.00     130423.00\n",
      "_______________________________________________\n",
      "Confusion Matrix: \n",
      " [[104460    483]\n",
      " [ 13998  11482]]\n",
      "\n"
     ]
    }
   ],
   "source": [
    "# param_grid = dict(\n",
    "#     n_estimators=stats.randint(100, 1500),\n",
    "#     max_depth=stats.randint(10, 100),\n",
    "#     min_samples_split=stats.randint(1, 10),\n",
    "#     min_samples_leaf=stats.randint(1, 10),\n",
    "# )\n",
    "\n",
    "rf_clf = RandomForestClassifier(n_estimators=100)\n",
    "# rf_cv = RandomizedSearchCV(\n",
    "#     rf_clf, param_grid, cv=3, n_iter=60, \n",
    "#     scoring='roc_auc', n_jobs=-1, verbose=1\n",
    "# )\n",
    "# rf_cv.fit(X_train, y_train)\n",
    "# best_params = rf_cv.best_params_\n",
    "# print(f\"Best Parameters: {best_params}\")\n",
    "# rf_clf = RandomForestClassifier(**best_params)\n",
    "rf_clf.fit(X_train, y_train)\n",
    "\n",
    "y_train_pred = rf_clf.predict(X_train)\n",
    "y_test_pred = rf_clf.predict(X_test)\n",
    "\n",
    "print_score(y_train, y_train_pred, train=True)\n",
    "print_score(y_test, y_test_pred, train=False)"
   ]
  },
  {
   "cell_type": "code",
   "execution_count": 102,
   "id": "3006060f",
   "metadata": {
    "execution": {
     "iopub.execute_input": "2023-01-31T14:34:15.981579Z",
     "iopub.status.busy": "2023-01-31T14:34:15.981207Z",
     "iopub.status.idle": "2023-01-31T14:34:25.490730Z",
     "shell.execute_reply": "2023-01-31T14:34:25.489831Z"
    },
    "papermill": {
     "duration": 10.515643,
     "end_time": "2023-01-31T14:34:25.493010",
     "exception": false,
     "start_time": "2023-01-31T14:34:14.977367",
     "status": "completed"
    },
    "tags": []
   },
   "outputs": [
    {
     "data": {
      "text/plain": [
       "<sklearn.metrics._plot.roc_curve.RocCurveDisplay at 0x1a71a028b00>"
      ]
     },
     "execution_count": 102,
     "metadata": {},
     "output_type": "execute_result"
    },
    {
     "data": {
      "image/png": "[encoded data removed]",
      "text/plain": [
       "<Figure size 640x480 with 2 Axes>"
      ]
     },
     "metadata": {},
     "output_type": "display_data"
    },
    {
     "data": {
      "image/png": "[encoded data removed]",
      "text/plain": [
       "<Figure size 640x480 with 1 Axes>"
      ]
     },
     "metadata": {},
     "output_type": "display_data"
    }
   ],
   "source": [
    "disp = ConfusionMatrixDisplay.from_estimator(rf_clf, X_test, y_test, \n",
    "                             cmap='Blues', values_format='d', \n",
    "                             display_labels=['Default', 'Fully-Paid'])\n",
    "\n",
    "disp = RocCurveDisplay.from_estimator(xgb_clf, X_test, y_test)\n",
    "RocCurveDisplay.from_estimator(rf_clf, X_test, y_test, ax=disp.ax_)"
   ]
  },
  {
   "cell_type": "code",
   "execution_count": 103,
   "id": "c617c8e0",
   "metadata": {
    "execution": {
     "iopub.execute_input": "2023-01-31T14:34:27.628630Z",
     "iopub.status.busy": "2023-01-31T14:34:27.628243Z",
     "iopub.status.idle": "2023-01-31T14:34:40.613601Z",
     "shell.execute_reply": "2023-01-31T14:34:40.612554Z"
    },
    "papermill": {
     "duration": 14.055961,
     "end_time": "2023-01-31T14:34:40.616204",
     "exception": false,
     "start_time": "2023-01-31T14:34:26.560243",
     "status": "completed"
    },
    "tags": []
   },
   "outputs": [],
   "source": [
    "scores_dict['Random Forest'] = {\n",
    "        'Train': roc_auc_score(y_train, rf_clf.predict(X_train)),\n",
    "        'Test': roc_auc_score(y_test, rf_clf.predict(X_test)),\n",
    "    }"
   ]
  },
  {
   "cell_type": "markdown",
   "id": "6d37c45c",
   "metadata": {
    "papermill": {
     "duration": 1.190457,
     "end_time": "2023-01-31T14:34:42.958645",
     "exception": false,
     "start_time": "2023-01-31T14:34:41.768188",
     "status": "completed"
    },
    "tags": []
   },
   "source": [
    "# 📊 Comparing Models Prerformance"
   ]
  },
  {
   "cell_type": "code",
   "execution_count": 104,
   "id": "35aca8cc",
   "metadata": {
    "_kg_hide-input": true,
    "execution": {
     "iopub.execute_input": "2023-01-31T14:34:45.107075Z",
     "iopub.status.busy": "2023-01-31T14:34:45.106715Z",
     "iopub.status.idle": "2023-01-31T14:35:00.115274Z",
     "shell.execute_reply": "2023-01-31T14:35:00.113559Z"
    },
    "papermill": {
     "duration": 16.108958,
     "end_time": "2023-01-31T14:35:00.117995",
     "exception": false,
     "start_time": "2023-01-31T14:34:44.009037",
     "status": "completed"
    },
    "tags": []
   },
   "outputs": [
    {
     "name": "stdout",
     "output_type": "stream",
     "text": [
      "RANDOM FOREST                  roc_auc_score: 0.888\n",
      "XGBOOST                        roc_auc_score: 0.907\n",
      "ANNS                           roc_auc_score: 0.905\n",
      "ANNS                           roc_auc_score: 0.905\n"
     ]
    }
   ],
   "source": [
    "ml_models = {\n",
    "    'Random Forest': rf_clf, \n",
    "    'XGBoost': xgb_clf, \n",
    "    'ANNs': model\n",
    "}\n",
    "\n",
    "def get_model_predictions(model, X):\n",
    "    \"\"\"Get appropriate predictions for ROC calculation\"\"\"\n",
    "    if hasattr(model, 'predict_proba'):\n",
    "        return model.predict_proba(X)[:, 1]\n",
    "    else:\n",
    "        return model.predict(X)\n",
    "\n",
    "for model_name in ml_models:\n",
    "    model_obj = ml_models[model_name]\n",
    "    predictions = get_model_predictions(model_obj, X_test)\n",
    "    roc_score = roc_auc_score(y_test, predictions)\n",
    "    print(f\"{model_name.upper():{30}} roc_auc_score: {roc_score:.3f}\")"
   ]
  },
  {
   "cell_type": "code",
   "execution_count": 105,
   "id": "9c287e9d",
   "metadata": {
    "_kg_hide-input": true,
    "execution": {
     "iopub.execute_input": "2023-01-31T14:35:02.661377Z",
     "iopub.status.busy": "2023-01-31T14:35:02.661007Z",
     "iopub.status.idle": "2023-01-31T14:35:02.797665Z",
     "shell.execute_reply": "2023-01-31T14:35:02.796567Z"
    },
    "papermill": {
     "duration": 1.331525,
     "end_time": "2023-01-31T14:35:02.800493",
     "exception": false,
     "start_time": "2023-01-31T14:35:01.468968",
     "status": "completed"
    },
    "tags": []
   },
   "outputs": [
    {
     "data": {},
     "metadata": {},
     "output_type": "display_data"
    },
    {
     "data": {
      "application/vnd.holoviews_exec.v0+json": "",
      "text/html": [
       "<div id='a2d6a2d3-003d-46ee-ba22-1bf0fee8d8ba'>\n",
       "  <div id=\"cdd0ee77-00ec-4dbc-8e1e-c524b963971b\" data-root-id=\"a2d6a2d3-003d-46ee-ba22-1bf0fee8d8ba\" style=\"display: contents;\"></div>\n",
       "</div>\n",
       "<script type=\"application/javascript\">(function(root) {\n",
       "  var docs_json = {\"33c6864a-8d0c-4a70-96d5-4e5dc2d4cd1d\":{\"version\":\"3.8.0\",\"title\":\"Bokeh Application\",\"config\":{\"type\":\"object\",\"name\":\"DocumentConfig\",\"id\":\"73219e4a-4d3c-4b24-a5a6-108c4f78eec2\",\"attributes\":{\"notifications\":{\"type\":\"object\",\"name\":\"Notifications\",\"id\":\"a629e92a-5fa4-4e80-80fe-93227759ec78\"}}},\"roots\":[{\"type\":\"object\",\"name\":\"Row\",\"id\":\"a2d6a2d3-003d-46ee-ba22-1bf0fee8d8ba\",\"attributes\":{\"name\":\"Row00285\",\"tags\":[\"embedded\"],\"stylesheets\":[\"\\n:host(.pn-loading):before, .pn-loading:before {\\n  background-color: #c3c3c3;\\n  mask-size: auto calc(min(50%, 300px));\\n  -webkit-mask-size: auto calc(min(50%, 300px));\\n}\",{\"type\":\"object\",\"name\":\"ImportedStyleSheet\",\"id\":\"b592299a-c7e4-415c-8a45-93a756f5478e\",\"attributes\":{\"url\":\"https://cdn.holoviz.org/panel/1.8.2/dist/css/loading.css\"}},{\"type\":\"object\",\"name\":\"ImportedStyleSheet\",\"id\":\"62eabe46-42c9-42e9-85b8-7ce1f643516d\",\"attributes\":{\"url\":\"https://cdn.holoviz.org/panel/1.8.2/dist/css/listpanel.css\"}},{\"type\":\"object\",\"name\":\"ImportedStyleSheet\",\"id\":\"08a541e4-3198-49f7-a06f-85315f30e65e\",\"attributes\":{\"url\":\"https://cdn.holoviz.org/panel/1.8.2/dist/bundled/theme/default.css\"}},{\"type\":\"object\",\"name\":\"ImportedStyleSheet\",\"id\":\"121a335a-44b8-4a01-a730-e2af031155d2\",\"attributes\":{\"url\":\"https://cdn.holoviz.org/panel/1.8.2/dist/bundled/theme/native.css\"}}],\"min_width\":500,\"margin\":0,\"sizing_mode\":\"stretch_width\",\"align\":\"start\",\"children\":[{\"type\":\"object\",\"name\":\"Spacer\",\"id\":\"4fdd474f-6c84-4a32-9f61-669aa3ed7f61\",\"attributes\":{\"name\":\"HSpacer00289\",\"stylesheets\":[\"\\n:host(.pn-loading):before, .pn-loading:before {\\n  background-color: #c3c3c3;\\n  mask-size: auto calc(min(50%, 300px));\\n  -webkit-mask-size: auto calc(min(50%, 300px));\\n}\",{\"id\":\"b592299a-c7e4-415c-8a45-93a756f5478e\"},{\"id\":\"08a541e4-3198-49f7-a06f-85315f30e65e\"},{\"id\":\"121a335a-44b8-4a01-a730-e2af031155d2\"}],\"min_width\":0,\"margin\":0,\"sizing_mode\":\"stretch_width\",\"align\":\"start\"}},{\"type\":\"object\",\"name\":\"Figure\",\"id\":\"f2f7eb0b-47ba-4f56-856e-6eabc0ce915c\",\"attributes\":{\"width\":500,\"height\":400,\"margin\":[5,10],\"sizing_mode\":\"fixed\",\"align\":\"start\",\"x_range\":{\"type\":\"object\",\"name\":\"Range1d\",\"id\":\"bd40841c-a6b9-4c2e-97ab-a3e07a0c83a0\",\"attributes\":{\"name\":\"value\",\"tags\":[[[\"value\",null]],[]],\"end\":1.0276455002272364,\"reset_start\":0.0,\"reset_end\":1.0276455002272364}},\"y_range\":{\"type\":\"object\",\"name\":\"FactorRange\",\"id\":\"bdb7bbe5-6b12-4231-90dc-cd760c4c16e3\",\"attributes\":{\"tags\":[[[\"index\",null],[\"Variable\",null]],{\"type\":\"map\",\"entries\":[[\"invert_yaxis\",false],[\"autorange\",false]]}],\"factors\":[[\"Train\",\"Random Forest\"],[\"Train\",\"XGBoost\"],[\"Train\",\"ANNs\"],[\"Test\",\"Random Forest\"],[\"Test\",\"XGBoost\"],[\"Test\",\"ANNs\"]]}},\"x_scale\":{\"type\":\"object\",\"name\":\"LinearScale\",\"id\":\"625aa522-cd41-4d24-ba43-cd6a9cd64540\"},\"y_scale\":{\"type\":\"object\",\"name\":\"CategoricalScale\",\"id\":\"3b5af0c8-71eb-41a1-89ee-ec9856ed4707\"},\"title\":{\"type\":\"object\",\"name\":\"Title\",\"id\":\"eb8fd6ab-88d9-48ff-9d92-71641d65be57\",\"attributes\":{\"text\":\"ROC Scores of ML Models\",\"text_color\":\"black\",\"text_font_size\":\"12pt\"}},\"renderers\":[{\"type\":\"object\",\"name\":\"GlyphRenderer\",\"id\":\"036d104b-fc1e-4494-9143-9dc3cf8fd422\",\"attributes\":{\"data_source\":{\"type\":\"object\",\"name\":\"ColumnDataSource\",\"id\":\"a5c420bd-900a-4b9a-b56d-02ed2a3c5082\",\"attributes\":{\"selected\":{\"type\":\"object\",\"name\":\"Selection\",\"id\":\"8394b07c-b1de-42d2-b70a-5cc6f96d1f1e\",\"attributes\":{\"indices\":[],\"line_indices\":[]}},\"selection_policy\":{\"type\":\"object\",\"name\":\"UnionRenderers\",\"id\":\"fbaa44d7-5164-4b24-bb4d-d640b933caa3\"},\"data\":{\"type\":\"map\",\"entries\":[[\"xoffsets\",[[\"Train\",\"ANNs\"],[\"Test\",\"ANNs\"],[\"Train\",\"XGBoost\"],[\"Test\",\"XGBoost\"],[\"Train\",\"Random Forest\"],[\"Test\",\"Random Forest\"]]],[\"value\",{\"type\":\"ndarray\",\"array\":{\"type\":\"bytes\",\"data\":\"H4sIAAEAAAAC/wEwAM//rQlx6r4T7T/knTM4QfPsPzp/ejhm8Oc/xPm0hfuE5z+nhomFmv/vP2hftpPrIuc/kcQAvTAAAAA=\"},\"shape\":[6],\"dtype\":\"float64\",\"order\":\"little\"}],[\"index\",[\"Train\",\"Test\",\"Train\",\"Test\",\"Train\",\"Test\"]],[\"Variable\",[\"ANNs\",\"ANNs\",\"XGBoost\",\"XGBoost\",\"Random Forest\",\"Random Forest\"]]]}}},\"view\":{\"type\":\"object\",\"name\":\"CDSView\",\"id\":\"2e7325b1-7728-4114-aa00-26cda10edb6c\",\"attributes\":{\"filter\":{\"type\":\"object\",\"name\":\"AllIndices\",\"id\":\"8127b305-2f67-40a5-9644-609cd911c3cc\"}}},\"glyph\":{\"type\":\"object\",\"name\":\"HBar\",\"id\":\"66b35f4f-9c0f-4de4-8665-f7e0ab6d4949\",\"attributes\":{\"tags\":[\"apply_ranges\"],\"y\":{\"type\":\"field\",\"field\":\"xoffsets\"},\"height\":{\"type\":\"value\",\"value\":0.8},\"right\":{\"type\":\"field\",\"field\":\"value\"},\"line_alpha\":{\"type\":\"value\",\"value\":0.4},\"fill_color\":{\"type\":\"field\",\"field\":\"Variable\",\"transform\":{\"type\":\"object\",\"name\":\"CategoricalColorMapper\",\"id\":\"1d455570-fdc8-4fa2-81eb-7895d497e102\",\"attributes\":{\"palette\":[\"#30a2da\",\"#fc4f30\",\"#e5ae38\"],\"factors\":[\"ANNs\",\"XGBoost\",\"Random Forest\"]}}},\"fill_alpha\":{\"type\":\"value\",\"value\":0.4},\"hatch_color\":{\"type\":\"field\",\"field\":\"Variable\",\"transform\":{\"id\":\"1d455570-fdc8-4fa2-81eb-7895d497e102\"}},\"hatch_alpha\":{\"type\":\"value\",\"value\":0.4}}},\"selection_glyph\":{\"type\":\"object\",\"name\":\"HBar\",\"id\":\"08803e88-05d8-4ec0-ab39-836b229e65fd\",\"attributes\":{\"tags\":[\"apply_ranges\"],\"y\":{\"type\":\"field\",\"field\":\"xoffsets\"},\"height\":{\"type\":\"value\",\"value\":0.8},\"left\":{\"type\":\"value\",\"value\":0},\"right\":{\"type\":\"field\",\"field\":\"value\"},\"line_color\":{\"type\":\"value\",\"value\":\"black\"},\"line_alpha\":{\"type\":\"value\",\"value\":0.4},\"line_width\":{\"type\":\"value\",\"value\":1},\"line_join\":{\"type\":\"value\",\"value\":\"bevel\"},\"line_cap\":{\"type\":\"value\",\"value\":\"butt\"},\"line_dash\":{\"type\":\"value\",\"value\":[]},\"line_dash_offset\":{\"type\":\"value\",\"value\":0},\"fill_color\":{\"type\":\"field\",\"field\":\"Variable\",\"transform\":{\"id\":\"1d455570-fdc8-4fa2-81eb-7895d497e102\"}},\"fill_alpha\":{\"type\":\"value\",\"value\":0.4},\"hatch_color\":{\"type\":\"field\",\"field\":\"Variable\",\"transform\":{\"id\":\"1d455570-fdc8-4fa2-81eb-7895d497e102\"}},\"hatch_alpha\":{\"type\":\"value\",\"value\":0.4},\"hatch_scale\":{\"type\":\"value\",\"value\":12.0},\"hatch_pattern\":{\"type\":\"value\",\"value\":null},\"hatch_weight\":{\"type\":\"value\",\"value\":1.0}}},\"nonselection_glyph\":{\"type\":\"object\",\"name\":\"HBar\",\"id\":\"ad3ea333-5186-4694-acc4-7d3ec2b33491\",\"attributes\":{\"tags\":[\"apply_ranges\"],\"y\":{\"type\":\"field\",\"field\":\"xoffsets\"},\"height\":{\"type\":\"value\",\"value\":0.8},\"right\":{\"type\":\"field\",\"field\":\"value\"},\"line_alpha\":{\"type\":\"value\",\"value\":0.4},\"fill_color\":{\"type\":\"field\",\"field\":\"Variable\",\"transform\":{\"id\":\"1d455570-fdc8-4fa2-81eb-7895d497e102\"}},\"fill_alpha\":{\"type\":\"value\",\"value\":0.4},\"hatch_color\":{\"type\":\"field\",\"field\":\"Variable\",\"transform\":{\"id\":\"1d455570-fdc8-4fa2-81eb-7895d497e102\"}},\"hatch_alpha\":{\"type\":\"value\",\"value\":0.1}}},\"muted_glyph\":{\"type\":\"object\",\"name\":\"HBar\",\"id\":\"ba1c43ed-acca-4e04-8c71-1733b04d31cd\",\"attributes\":{\"tags\":[\"apply_ranges\"],\"y\":{\"type\":\"field\",\"field\":\"xoffsets\"},\"height\":{\"type\":\"value\",\"value\":0.8},\"right\":{\"type\":\"field\",\"field\":\"value\"},\"line_alpha\":{\"type\":\"value\",\"value\":0.2},\"fill_color\":{\"type\":\"field\",\"field\":\"Variable\",\"transform\":{\"id\":\"1d455570-fdc8-4fa2-81eb-7895d497e102\"}},\"fill_alpha\":{\"type\":\"value\",\"value\":0.2},\"hatch_color\":{\"type\":\"field\",\"field\":\"Variable\",\"transform\":{\"id\":\"1d455570-fdc8-4fa2-81eb-7895d497e102\"}},\"hatch_alpha\":{\"type\":\"value\",\"value\":0.2}}}}}],\"toolbar\":{\"type\":\"object\",\"name\":\"Toolbar\",\"id\":\"a04306c8-40c9-49bc-96c0-d3114033a375\",\"attributes\":{\"tools\":[{\"type\":\"object\",\"name\":\"WheelZoomTool\",\"id\":\"4e287876-8447-43ac-8be5-b1d57f9a9fae\",\"attributes\":{\"tags\":[\"hv_created\"],\"renderers\":\"auto\",\"zoom_together\":\"none\"}},{\"type\":\"object\",\"name\":\"HoverTool\",\"id\":\"3fcfbbfd-2937-46de-ab69-05be99469fac\",\"attributes\":{\"tags\":[\"hv_created\"],\"renderers\":[{\"id\":\"036d104b-fc1e-4494-9143-9dc3cf8fd422\"}],\"tooltips\":[[\"index\",\"@{index}\"],[\"Variable\",\"@{Variable}\"],[\"value\",\"@{value}\"]],\"sort_by\":null}},{\"type\":\"object\",\"name\":\"SaveTool\",\"id\":\"07a4946f-ac39-41a4-b5b4-311a93e16462\"},{\"type\":\"object\",\"name\":\"PanTool\",\"id\":\"c77f9b82-53b1-4696-b38d-8442e48af7a7\"},{\"type\":\"object\",\"name\":\"BoxZoomTool\",\"id\":\"83faa916-807c-447e-887d-340c55ed2425\",\"attributes\":{\"dimensions\":\"both\",\"overlay\":{\"type\":\"object\",\"name\":\"BoxAnnotation\",\"id\":\"971f63fc-85a2-40ce-9ac2-1a827285c7d2\",\"attributes\":{\"syncable\":false,\"line_color\":\"black\",\"line_alpha\":1.0,\"line_width\":2,\"line_dash\":[4,4],\"fill_color\":\"lightgrey\",\"fill_alpha\":0.5,\"level\":\"overlay\",\"visible\":false,\"left\":{\"type\":\"number\",\"value\":\"nan\"},\"right\":{\"type\":\"number\",\"value\":\"nan\"},\"top\":{\"type\":\"number\",\"value\":\"nan\"},\"bottom\":{\"type\":\"number\",\"value\":\"nan\"},\"left_units\":\"canvas\",\"right_units\":\"canvas\",\"top_units\":\"canvas\",\"bottom_units\":\"canvas\",\"handles\":{\"type\":\"object\",\"name\":\"BoxInteractionHandles\",\"id\":\"7834687a-909e-4452-91d4-8006d4b459c8\",\"attributes\":{\"all\":{\"type\":\"object\",\"name\":\"AreaVisuals\",\"id\":\"0fa7601d-c39f-4b9f-8c6a-f035bd5d98eb\",\"attributes\":{\"fill_color\":\"white\",\"hover_fill_color\":\"lightgray\"}}}}}}}},{\"type\":\"object\",\"name\":\"ResetTool\",\"id\":\"2b53b1e5-1cc5-4f3e-87ac-b82036e7a254\"}],\"active_drag\":{\"id\":\"c77f9b82-53b1-4696-b38d-8442e48af7a7\"},\"active_scroll\":{\"id\":\"4e287876-8447-43ac-8be5-b1d57f9a9fae\"}}},\"left\":[{\"type\":\"object\",\"name\":\"CategoricalAxis\",\"id\":\"87f037a5-855d-454b-b603-0486f0a56cb7\",\"attributes\":{\"ticker\":{\"type\":\"object\",\"name\":\"CategoricalTicker\",\"id\":\"3ab133ed-9b10-46a6-b08a-03c0b0247d1e\"},\"formatter\":{\"type\":\"object\",\"name\":\"CategoricalTickFormatter\",\"id\":\"2485e213-b079-49c2-ae08-a0ecbd0c6249\"},\"axis_label\":\"\",\"major_label_policy\":{\"type\":\"object\",\"name\":\"AllLabels\",\"id\":\"d4d3ffb8-93c2-48c6-8191-dcd7b7fc5005\"}}}],\"below\":[{\"type\":\"object\",\"name\":\"LinearAxis\",\"id\":\"7f0f7c5a-6002-47d6-88b2-5608769abe47\",\"attributes\":{\"ticker\":{\"type\":\"object\",\"name\":\"BasicTicker\",\"id\":\"27c617e2-51cf-44b3-b6ac-87bde32e0ed3\",\"attributes\":{\"mantissas\":[1,2,5]}},\"formatter\":{\"type\":\"object\",\"name\":\"BasicTickFormatter\",\"id\":\"1ba0d8ed-4dd0-414f-80c9-c8c382ad6e86\"},\"axis_label\":\"value\",\"major_label_policy\":{\"type\":\"object\",\"name\":\"AllLabels\",\"id\":\"c250815a-8873-49bb-9614-0865b5f8d8a9\"}}}],\"center\":[{\"type\":\"object\",\"name\":\"Grid\",\"id\":\"ce0b4906-7e74-4916-84f5-da0c88b12550\",\"attributes\":{\"axis\":{\"id\":\"7f0f7c5a-6002-47d6-88b2-5608769abe47\"},\"grid_line_color\":null}},{\"type\":\"object\",\"name\":\"Grid\",\"id\":\"e1dcd55c-15fb-4437-87c0-a3f6a4746ab8\",\"attributes\":{\"dimension\":1,\"axis\":{\"id\":\"87f037a5-855d-454b-b603-0486f0a56cb7\"},\"grid_line_color\":null}}],\"min_border_top\":10,\"min_border_bottom\":10,\"min_border_left\":10,\"min_border_right\":10,\"output_backend\":\"webgl\"}},{\"type\":\"object\",\"name\":\"Spacer\",\"id\":\"efa17427-7807-4cf7-b7e2-d456235616e2\",\"attributes\":{\"name\":\"HSpacer00290\",\"stylesheets\":[\"\\n:host(.pn-loading):before, .pn-loading:before {\\n  background-color: #c3c3c3;\\n  mask-size: auto calc(min(50%, 300px));\\n  -webkit-mask-size: auto calc(min(50%, 300px));\\n}\",{\"id\":\"b592299a-c7e4-415c-8a45-93a756f5478e\"},{\"id\":\"08a541e4-3198-49f7-a06f-85315f30e65e\"},{\"id\":\"121a335a-44b8-4a01-a730-e2af031155d2\"}],\"min_width\":0,\"margin\":0,\"sizing_mode\":\"stretch_width\",\"align\":\"start\"}}]}}],\"defs\":[{\"type\":\"model\",\"name\":\"ReactiveHTML1\"},{\"type\":\"model\",\"name\":\"FlexBox1\",\"properties\":[{\"name\":\"align_content\",\"kind\":\"Any\",\"default\":\"flex-start\"},{\"name\":\"align_items\",\"kind\":\"Any\",\"default\":\"flex-start\"},{\"name\":\"flex_direction\",\"kind\":\"Any\",\"default\":\"row\"},{\"name\":\"flex_wrap\",\"kind\":\"Any\",\"default\":\"wrap\"},{\"name\":\"gap\",\"kind\":\"Any\",\"default\":\"\"},{\"name\":\"justify_content\",\"kind\":\"Any\",\"default\":\"flex-start\"}]},{\"type\":\"model\",\"name\":\"FloatPanel1\",\"properties\":[{\"name\":\"config\",\"kind\":\"Any\",\"default\":{\"type\":\"map\"}},{\"name\":\"contained\",\"kind\":\"Any\",\"default\":true},{\"name\":\"position\",\"kind\":\"Any\",\"default\":\"right-top\"},{\"name\":\"offsetx\",\"kind\":\"Any\",\"default\":null},{\"name\":\"offsety\",\"kind\":\"Any\",\"default\":null},{\"name\":\"theme\",\"kind\":\"Any\",\"default\":\"primary\"},{\"name\":\"status\",\"kind\":\"Any\",\"default\":\"normalized\"}]},{\"type\":\"model\",\"name\":\"GridStack1\",\"properties\":[{\"name\":\"ncols\",\"kind\":\"Any\",\"default\":null},{\"name\":\"nrows\",\"kind\":\"Any\",\"default\":null},{\"name\":\"allow_resize\",\"kind\":\"Any\",\"default\":true},{\"name\":\"allow_drag\",\"kind\":\"Any\",\"default\":true},{\"name\":\"state\",\"kind\":\"Any\",\"default\":[]}]},{\"type\":\"model\",\"name\":\"drag1\",\"properties\":[{\"name\":\"slider_width\",\"kind\":\"Any\",\"default\":5},{\"name\":\"slider_color\",\"kind\":\"Any\",\"default\":\"black\"},{\"name\":\"start\",\"kind\":\"Any\",\"default\":0},{\"name\":\"end\",\"kind\":\"Any\",\"default\":100},{\"name\":\"value\",\"kind\":\"Any\",\"default\":50}]},{\"type\":\"model\",\"name\":\"click1\",\"properties\":[{\"name\":\"terminal_output\",\"kind\":\"Any\",\"default\":\"\"},{\"name\":\"debug_name\",\"kind\":\"Any\",\"default\":\"\"},{\"name\":\"clears\",\"kind\":\"Any\",\"default\":0}]},{\"type\":\"model\",\"name\":\"ReactiveESM1\",\"properties\":[{\"name\":\"esm_constants\",\"kind\":\"Any\",\"default\":{\"type\":\"map\"}}]},{\"type\":\"model\",\"name\":\"JSComponent1\",\"properties\":[{\"name\":\"esm_constants\",\"kind\":\"Any\",\"default\":{\"type\":\"map\"}}]},{\"type\":\"model\",\"name\":\"ReactComponent1\",\"properties\":[{\"name\":\"use_shadow_dom\",\"kind\":\"Any\",\"default\":true},{\"name\":\"esm_constants\",\"kind\":\"Any\",\"default\":{\"type\":\"map\"}}]},{\"type\":\"model\",\"name\":\"AnyWidgetComponent1\",\"properties\":[{\"name\":\"use_shadow_dom\",\"kind\":\"Any\",\"default\":true},{\"name\":\"esm_constants\",\"kind\":\"Any\",\"default\":{\"type\":\"map\"}}]},{\"type\":\"model\",\"name\":\"FastWrapper1\",\"properties\":[{\"name\":\"object\",\"kind\":\"Any\",\"default\":null},{\"name\":\"style\",\"kind\":\"Any\",\"default\":null}]},{\"type\":\"model\",\"name\":\"NotificationArea1\",\"properties\":[{\"name\":\"js_events\",\"kind\":\"Any\",\"default\":{\"type\":\"map\"}},{\"name\":\"max_notifications\",\"kind\":\"Any\",\"default\":5},{\"name\":\"notifications\",\"kind\":\"Any\",\"default\":[]},{\"name\":\"position\",\"kind\":\"Any\",\"default\":\"bottom-right\"},{\"name\":\"_clear\",\"kind\":\"Any\",\"default\":0},{\"name\":\"types\",\"kind\":\"Any\",\"default\":[{\"type\":\"map\",\"entries\":[[\"type\",\"warning\"],[\"background\",\"#ffc107\"],[\"icon\",{\"type\":\"map\",\"entries\":[[\"className\",\"fas fa-exclamation-triangle\"],[\"tagName\",\"i\"],[\"color\",\"white\"]]}]]},{\"type\":\"map\",\"entries\":[[\"type\",\"info\"],[\"background\",\"#007bff\"],[\"icon\",{\"type\":\"map\",\"entries\":[[\"className\",\"fas fa-info-circle\"],[\"tagName\",\"i\"],[\"color\",\"white\"]]}]]}]}]},{\"type\":\"model\",\"name\":\"Notification\",\"properties\":[{\"name\":\"background\",\"kind\":\"Any\",\"default\":null},{\"name\":\"duration\",\"kind\":\"Any\",\"default\":3000},{\"name\":\"icon\",\"kind\":\"Any\",\"default\":null},{\"name\":\"message\",\"kind\":\"Any\",\"default\":\"\"},{\"name\":\"notification_type\",\"kind\":\"Any\",\"default\":null},{\"name\":\"_rendered\",\"kind\":\"Any\",\"default\":false},{\"name\":\"_destroyed\",\"kind\":\"Any\",\"default\":false}]},{\"type\":\"model\",\"name\":\"TemplateActions1\",\"properties\":[{\"name\":\"open_modal\",\"kind\":\"Any\",\"default\":0},{\"name\":\"close_modal\",\"kind\":\"Any\",\"default\":0}]},{\"type\":\"model\",\"name\":\"BootstrapTemplateActions1\",\"properties\":[{\"name\":\"open_modal\",\"kind\":\"Any\",\"default\":0},{\"name\":\"close_modal\",\"kind\":\"Any\",\"default\":0}]},{\"type\":\"model\",\"name\":\"TemplateEditor1\",\"properties\":[{\"name\":\"layout\",\"kind\":\"Any\",\"default\":[]}]},{\"type\":\"model\",\"name\":\"MaterialTemplateActions1\",\"properties\":[{\"name\":\"open_modal\",\"kind\":\"Any\",\"default\":0},{\"name\":\"close_modal\",\"kind\":\"Any\",\"default\":0}]},{\"type\":\"model\",\"name\":\"request_value1\",\"properties\":[{\"name\":\"fill\",\"kind\":\"Any\",\"default\":\"none\"},{\"name\":\"_synced\",\"kind\":\"Any\",\"default\":null},{\"name\":\"_request_sync\",\"kind\":\"Any\",\"default\":0}]},{\"type\":\"model\",\"name\":\"holoviews.plotting.bokeh.raster.HoverModel\",\"properties\":[{\"name\":\"xy\",\"kind\":\"Any\",\"default\":null},{\"name\":\"data\",\"kind\":\"Any\",\"default\":null}]}]}};\n",
       "  var render_items = [{\"docid\":\"33c6864a-8d0c-4a70-96d5-4e5dc2d4cd1d\",\"roots\":{\"a2d6a2d3-003d-46ee-ba22-1bf0fee8d8ba\":\"cdd0ee77-00ec-4dbc-8e1e-c524b963971b\"},\"root_ids\":[\"a2d6a2d3-003d-46ee-ba22-1bf0fee8d8ba\"]}];\n",
       "  var docs = Object.values(docs_json)\n",
       "  if (!docs) {\n",
       "    return\n",
       "  }\n",
       "  const py_version = docs[0].version.replace('rc', '-rc.').replace('.dev', '-dev.')\n",
       "  async function embed_document(root) {\n",
       "    var Bokeh = get_bokeh(root)\n",
       "    await Bokeh.embed.embed_items_notebook(docs_json, render_items);\n",
       "    for (const render_item of render_items) {\n",
       "      for (const root_id of render_item.root_ids) {\n",
       "\tconst id_el = document.getElementById(root_id)\n",
       "\tif (id_el.children.length && id_el.children[0].hasAttribute('data-root-id')) {\n",
       "\t  const root_el = id_el.children[0]\n",
       "\t  root_el.id = root_el.id + '-rendered'\n",
       "\t  for (const child of root_el.children) {\n",
       "            // Ensure JupyterLab does not capture keyboard shortcuts\n",
       "            // see: https://jupyterlab.readthedocs.io/en/4.1.x/extension/notebook.html#keyboard-interaction-model\n",
       "\t    child.setAttribute('data-lm-suppress-shortcuts', 'true')\n",
       "\t  }\n",
       "\t}\n",
       "      }\n",
       "    }\n",
       "  }\n",
       "  function get_bokeh(root) {\n",
       "    if (root.Bokeh === undefined) {\n",
       "      return null\n",
       "    } else if (root.Bokeh.version !== py_version) {\n",
       "      if (root.Bokeh.versions === undefined || !root.Bokeh.versions.has(py_version)) {\n",
       "\treturn null\n",
       "      }\n",
       "      return root.Bokeh.versions.get(py_version);\n",
       "    } else if (root.Bokeh.version === py_version) {\n",
       "      return root.Bokeh\n",
       "    }\n",
       "    return null\n",
       "  }\n",
       "  function is_loaded(root) {\n",
       "    var Bokeh = get_bokeh(root)\n",
       "    return (Bokeh != null && Bokeh.Panel !== undefined)\n",
       "  }\n",
       "  if (is_loaded(root)) {\n",
       "    embed_document(root);\n",
       "  } else {\n",
       "    var attempts = 0;\n",
       "    var timer = setInterval(function(root) {\n",
       "      if (is_loaded(root)) {\n",
       "        clearInterval(timer);\n",
       "        embed_document(root);\n",
       "      } else if (document.readyState == \"complete\") {\n",
       "        attempts++;\n",
       "        if (attempts > 200) {\n",
       "          clearInterval(timer);\n",
       "\t  var Bokeh = get_bokeh(root)\n",
       "\t  if (Bokeh == null || Bokeh.Panel == null) {\n",
       "            console.warn(\"Panel: ERROR: Unable to run Panel code because Bokeh or Panel library is missing\");\n",
       "\t  } else {\n",
       "\t    console.warn(\"Panel: WARNING: Attempting to render but not all required libraries could be resolved.\")\n",
       "\t    embed_document(root)\n",
       "\t  }\n",
       "        }\n",
       "      }\n",
       "    }, 25, root)\n",
       "  }\n",
       "})(window);</script>"
      ],
      "text/plain": [
       ":Bars   [index,Variable]   (value)"
      ]
     },
     "execution_count": 105,
     "metadata": {
      "application/vnd.holoviews_exec.v0+json": {
       "id": "a2d6a2d3-003d-46ee-ba22-1bf0fee8d8ba"
      }
     },
     "output_type": "execute_result"
    }
   ],
   "source": [
    "scores_df = pd.DataFrame(scores_dict)\n",
    "scores_df.hvplot.barh(\n",
    "    width=500, height=400, \n",
    "    title=\"ROC Scores of ML Models\", xlabel=\"ROC Scores\", \n",
    "    alpha=0.4, legend='top'\n",
    ")"
   ]
  }
 ],
 "metadata": {
  "kernelspec": {
   "display_name": ".venv",
   "language": "python",
   "name": "python3"
  },
  "language_info": {
   "codemirror_mode": {
    "name": "ipython",
    "version": 3
   },
   "file_extension": ".py",
   "mimetype": "text/x-python",
   "name": "python",
   "nbconvert_exporter": "python",
   "pygments_lexer": "ipython3",
   "version": "3.12.5"
  },
  "papermill": {
   "default_parameters": {},
   "duration": 1434.559462,
   "end_time": "2023-01-31T14:35:09.548746",
   "environment_variables": {},
   "exception": null,
   "input_path": "__notebook__.ipynb",
   "output_path": "__notebook__.ipynb",
   "parameters": {},
   "start_time": "2023-01-31T14:11:14.989284",
   "version": "2.3.4"
  }
 },
 "nbformat": 4,
 "nbformat_minor": 5
}
